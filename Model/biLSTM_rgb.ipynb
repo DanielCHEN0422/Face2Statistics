{
 "cells": [
  {
   "cell_type": "markdown",
   "metadata": {},
   "source": [
    "# TensorFlow2 DenseNet-BiLSTM-RGB"
   ]
  },
  {
   "cell_type": "markdown",
   "metadata": {},
   "source": [
    "## 1.导入数据\n",
    "使用BROOK数据集 "
   ]
  },
  {
   "cell_type": "code",
   "execution_count": 1,
   "metadata": {},
   "outputs": [],
   "source": [
    "import numpy as np\n",
    "import tensorflow as tf\n",
    "from sklearn.metrics import accuracy_score\n",
    "from tensorflow import keras\n",
    "from PIL import Image\n",
    "import cv2\n",
    "import matplotlib.pyplot as plt\n",
    "from tensorflow.keras.applications import DenseNet201\n",
    "import matplotlib.colors as colors\n",
    "import tensorflow_addons as tfa\n",
    "import os.path \n",
    "from tensorflow_addons.layers import CRF"
   ]
  },
  {
   "cell_type": "code",
   "execution_count": 2,
   "metadata": {},
   "outputs": [],
   "source": [
    "txt_file = 'hr/train19.txt'\n",
    "# txt_file = 'dataset/speedtxt/train.txt'\n",
    "f = open(txt_file)\n",
    "imgspaths = []\n",
    "speeds = []\n",
    "for line in f.readlines():\n",
    "    filename = line.split(',')[0]\n",
    "    speed = line.split(',')[1]\n",
    "    if speed[-1] == '\\n':\n",
    "        speed = speed[:-1]\n",
    "        imgspaths.append(filename)\n",
    "        speeds.append(int(speed))\n",
    "    \n",
    "y_train = np.array(speeds)\n",
    "\n"
   ]
  },
  {
   "cell_type": "code",
   "execution_count": 3,
   "metadata": {},
   "outputs": [],
   "source": [
    "max_unit = np.max(y_train)"
   ]
  },
  {
   "cell_type": "code",
   "execution_count": 4,
   "metadata": {},
   "outputs": [],
   "source": [
    "txt_file = 'hr/test19.txt'\n",
    "# txt_file = 'dataset/speedtxt/test.txt'\n",
    "f = open(txt_file)\n",
    "imgspath2 = []\n",
    "speeds = []\n",
    "for line in f.readlines():\n",
    "    filename = line.split(',')[0]\n",
    "    speed = line.split(',')[1]\n",
    "    if speed[-1] == '\\n':\n",
    "        speed = speed[:-1]\n",
    "        imgspath2.append(filename)\n",
    "        speeds.append(int(speed))\n",
    "y_test = np.array(speeds)\n",
    "        "
   ]
  },
  {
   "cell_type": "code",
   "execution_count": 5,
   "metadata": {},
   "outputs": [],
   "source": [
    "# imgspaths = ['1565751556792.jpg','1565751556904.jpg','1565751556968.jpg','1565751556968.jpg','1565751556968.jpg','1565751556968.jpg','1565751556968.jpg','1565751556968.jpg','1565751556968.jpg','1565751556968.jpg','1565751556968.jpg','1565751556968.jpg']\n",
    "# imgspaths = ['1565751556792.jpg','1565751556904.jpg','1565751562024.jpg']\n",
    "# y_train = [[53],[54],[55]]\n",
    "x_train = []\n",
    "for imgspath in imgspaths:\n",
    "    path1 = 'dataset/train/'+imgspath\n",
    "    path2 = 'dataset/test/'+imgspath\n",
    "    path3 = 'dataset/val/'+imgspath\n",
    "    path4 = '../Model-Training2/dataset/train/'+imgspath\n",
    "    path5 = '../Model-Training2/dataset/test/'+imgspath\n",
    "    path6 = '../Model-Training2/dataset/val/'+imgspath\n",
    "    if os.path.exists(path1):\n",
    "        img = np.array(Image.open(path1))\n",
    "    elif os.path.exists(path2):\n",
    "        img = np.array(Image.open(path2))\n",
    "    elif os.path.exists(path3):\n",
    "        img = np.array(Image.open(path3))\n",
    "    elif os.path.exists(path4):\n",
    "        img = np.array(Image.open(path4))\n",
    "    elif os.path.exists(path5):\n",
    "        img = np.array(Image.open(path5))\n",
    "    else:\n",
    "        img = np.array(Image.open(path6))\n",
    "        \n",
    "#     img = colors.rgb_to_hsv(img)\n",
    "    img = cv2.resize(img,(32,32))\n",
    "    x_train.append(img)\n",
    "x_train = np.array(x_train)"
   ]
  },
  {
   "cell_type": "code",
   "execution_count": 6,
   "metadata": {},
   "outputs": [],
   "source": [
    "# imgspath2 = ['1565752827880.jpg']\n",
    "# y_test = [[55]]\n",
    "x_test = []\n",
    "for imgspath in imgspath2:\n",
    "    path1 = 'dataset/train/'+imgspath\n",
    "    path2 = 'dataset/test/'+imgspath\n",
    "    path3 = 'dataset/val/'+imgspath\n",
    "    path4 = '../Model-Training2/dataset/train/'+imgspath\n",
    "    path5 = '../Model-Training2/dataset/test/'+imgspath\n",
    "    path6 = '../Model-Training2/dataset/val/'+imgspath\n",
    "    if os.path.exists(path1):\n",
    "        img = np.array(Image.open(path1))\n",
    "    elif os.path.exists(path2):\n",
    "        img = np.array(Image.open(path2))\n",
    "    elif os.path.exists(path3):\n",
    "        img = np.array(Image.open(path3))\n",
    "    elif os.path.exists(path4):\n",
    "        img = np.array(Image.open(path4))\n",
    "    elif os.path.exists(path5):\n",
    "        img = np.array(Image.open(path5))\n",
    "    else:\n",
    "        img = np.array(Image.open(path6))\n",
    "        \n",
    "#     img = colors.rgb_to_hsv(img)\n",
    "    img = cv2.resize(img,(32,32))\n",
    "    x_test.append(img)\n",
    "x_test = np.array(x_test)"
   ]
  },
  {
   "cell_type": "code",
   "execution_count": 7,
   "metadata": {},
   "outputs": [],
   "source": [
    "y_train = keras.utils.to_categorical(y_train)\n",
    "y_test = keras.utils.to_categorical(y_test)"
   ]
  },
  {
   "cell_type": "code",
   "execution_count": 8,
   "metadata": {},
   "outputs": [],
   "source": [
    "validation_set = (x_test, y_test)"
   ]
  },
  {
   "cell_type": "markdown",
   "metadata": {},
   "source": [
    "## CNN和LSTM结果合并"
   ]
  },
  {
   "cell_type": "code",
   "execution_count": 9,
   "metadata": {},
   "outputs": [],
   "source": [
    "from tensorflow.keras import layers\n",
    "model = keras.Sequential()"
   ]
  },
  {
   "cell_type": "code",
   "execution_count": 10,
   "metadata": {},
   "outputs": [],
   "source": [
    "x_shape = x_train.shape\n",
    "cnet2 = DenseNet201(\n",
    "    input_shape=(x_shape[1], x_shape[2], x_shape[3]),\n",
    "    weights='imagenet',\n",
    "    include_top=False\n",
    ")\n",
    "cnet2.trainable = True\n",
    "img_input = layers.Input(shape=(x_shape[1], x_shape[2], x_shape[3]))\n",
    "base_model = cnet2(img_input)\n",
    "\n",
    "# pool = layers.GlobalAveragePooling2D()(final_layer)\n",
    "flat = layers.Flatten()(base_model)\n",
    "dense1 = layers.Dense(64)(flat)"
   ]
  },
  {
   "cell_type": "code",
   "execution_count": 11,
   "metadata": {},
   "outputs": [],
   "source": [
    "reshape = layers.Reshape(target_shape=(x_shape[1]*x_shape[2], x_shape[3]))(img_input)\n",
    "lstm_layer = layers.Bidirectional(keras.layers.LSTM(50, return_sequences=False))(reshape)\n",
    "dense2 = layers.Dense(64)(lstm_layer)"
   ]
  },
  {
   "cell_type": "code",
   "execution_count": 12,
   "metadata": {},
   "outputs": [
    {
     "name": "stdout",
     "output_type": "stream",
     "text": [
      "Model: \"functional_1\"\n",
      "__________________________________________________________________________________________________\n",
      "Layer (type)                    Output Shape         Param #     Connected to                     \n",
      "==================================================================================================\n",
      "input_2 (InputLayer)            [(None, 32, 32, 3)]  0                                            \n",
      "__________________________________________________________________________________________________\n",
      "densenet201 (Functional)        (None, 1, 1, 1920)   18321984    input_2[0][0]                    \n",
      "__________________________________________________________________________________________________\n",
      "reshape (Reshape)               (None, 1024, 3)      0           input_2[0][0]                    \n",
      "__________________________________________________________________________________________________\n",
      "flatten (Flatten)               (None, 1920)         0           densenet201[0][0]                \n",
      "__________________________________________________________________________________________________\n",
      "bidirectional (Bidirectional)   (None, 100)          21600       reshape[0][0]                    \n",
      "__________________________________________________________________________________________________\n",
      "dense (Dense)                   (None, 64)           122944      flatten[0][0]                    \n",
      "__________________________________________________________________________________________________\n",
      "dense_1 (Dense)                 (None, 64)           6464        bidirectional[0][0]              \n",
      "__________________________________________________________________________________________________\n",
      "concatenate (Concatenate)       (None, 128)          0           dense[0][0]                      \n",
      "                                                                 dense_1[0][0]                    \n",
      "__________________________________________________________________________________________________\n",
      "dense_2 (Dense)                 (None, 40)           5160        concatenate[0][0]                \n",
      "==================================================================================================\n",
      "Total params: 18,478,152\n",
      "Trainable params: 18,249,096\n",
      "Non-trainable params: 229,056\n",
      "__________________________________________________________________________________________________\n"
     ]
    }
   ],
   "source": [
    "merged_layer = layers.concatenate([dense1, dense2])\n",
    "# merged_layer = dense1\n",
    "outt = layers.Dense(max_unit+1,activation='softmax')(merged_layer)\n",
    "model = keras.Model(inputs=img_input, outputs=outt)\n",
    "model.compile(optimizer=keras.optimizers.Adam(),\n",
    "             loss=keras.losses.CategoricalCrossentropy(),\n",
    "             metrics=['accuracy'])\n",
    "model.summary()"
   ]
  },
  {
   "cell_type": "code",
   "execution_count": 13,
   "metadata": {
    "scrolled": false
   },
   "outputs": [
    {
     "name": "stdout",
     "output_type": "stream",
     "text": [
      "Epoch 1/100\n",
      "273/273 [==============================] - 302s 1s/step - loss: 2.8662 - accuracy: 0.1272 - val_loss: 17.2387 - val_accuracy: 0.0567\n",
      "Epoch 2/100\n",
      "273/273 [==============================] - 290s 1s/step - loss: 2.7599 - accuracy: 0.1326 - val_loss: 95.9124 - val_accuracy: 0.0958\n",
      "Epoch 3/100\n",
      "273/273 [==============================] - 286s 1s/step - loss: 2.7279 - accuracy: 0.1393 - val_loss: 4.5557 - val_accuracy: 0.1137\n",
      "Epoch 4/100\n",
      "273/273 [==============================] - 300s 1s/step - loss: 2.6050 - accuracy: 0.1589 - val_loss: 3.5656 - val_accuracy: 0.1305\n",
      "Epoch 5/100\n",
      "273/273 [==============================] - 304s 1s/step - loss: 2.4923 - accuracy: 0.1830 - val_loss: 3.0590 - val_accuracy: 0.1233\n",
      "Epoch 6/100\n",
      "273/273 [==============================] - 297s 1s/step - loss: 2.4111 - accuracy: 0.2030 - val_loss: 2.4418 - val_accuracy: 0.1952\n",
      "Epoch 7/100\n",
      "273/273 [==============================] - 295s 1s/step - loss: 2.2982 - accuracy: 0.2235 - val_loss: 3.6243 - val_accuracy: 0.0820\n",
      "Epoch 8/100\n",
      "273/273 [==============================] - 289s 1s/step - loss: 2.1908 - accuracy: 0.2535 - val_loss: 2.5184 - val_accuracy: 0.1826\n",
      "Epoch 9/100\n",
      "273/273 [==============================] - 285s 1s/step - loss: 2.0809 - accuracy: 0.2785 - val_loss: 2.9878 - val_accuracy: 0.1651\n",
      "Epoch 10/100\n",
      "273/273 [==============================] - 286s 1s/step - loss: 1.9823 - accuracy: 0.3066 - val_loss: 2.4456 - val_accuracy: 0.2267\n",
      "Epoch 11/100\n",
      "273/273 [==============================] - 290s 1s/step - loss: 1.8636 - accuracy: 0.3399 - val_loss: 2.8945 - val_accuracy: 0.1980\n",
      "Epoch 12/100\n",
      "273/273 [==============================] - 300s 1s/step - loss: 1.7666 - accuracy: 0.3721 - val_loss: 4.7627 - val_accuracy: 0.1171\n",
      "Epoch 13/100\n",
      "273/273 [==============================] - 282s 1s/step - loss: 1.6477 - accuracy: 0.4078 - val_loss: 5.0726 - val_accuracy: 0.1452\n",
      "Epoch 14/100\n",
      "273/273 [==============================] - 297s 1s/step - loss: 1.5229 - accuracy: 0.4496 - val_loss: 2.9555 - val_accuracy: 0.2249\n",
      "Epoch 15/100\n",
      "273/273 [==============================] - 293s 1s/step - loss: 1.4355 - accuracy: 0.4801 - val_loss: 2.6329 - val_accuracy: 0.2490\n",
      "Epoch 16/100\n",
      "273/273 [==============================] - 293s 1s/step - loss: 1.3473 - accuracy: 0.5093 - val_loss: 3.0262 - val_accuracy: 0.2570\n",
      "Epoch 17/100\n",
      "273/273 [==============================] - 301s 1s/step - loss: 1.2492 - accuracy: 0.5440 - val_loss: 2.6712 - val_accuracy: 0.2745\n",
      "Epoch 18/100\n",
      "273/273 [==============================] - 293s 1s/step - loss: 1.1745 - accuracy: 0.5695 - val_loss: 3.1176 - val_accuracy: 0.2053\n",
      "Epoch 19/100\n",
      "273/273 [==============================] - 285s 1s/step - loss: 1.1022 - accuracy: 0.5949 - val_loss: 3.1103 - val_accuracy: 0.2143\n",
      "Epoch 20/100\n",
      "273/273 [==============================] - 301s 1s/step - loss: 1.0325 - accuracy: 0.6205 - val_loss: 3.1570 - val_accuracy: 0.2412\n",
      "Epoch 21/100\n",
      "273/273 [==============================] - 291s 1s/step - loss: 0.9714 - accuracy: 0.6421 - val_loss: 2.2458 - val_accuracy: 0.3542\n",
      "Epoch 22/100\n",
      "273/273 [==============================] - 284s 1s/step - loss: 0.9238 - accuracy: 0.6628 - val_loss: 3.5887 - val_accuracy: 0.2400\n",
      "Epoch 23/100\n",
      "273/273 [==============================] - 279s 1s/step - loss: 0.8576 - accuracy: 0.6834 - val_loss: 2.7366 - val_accuracy: 0.2862\n",
      "Epoch 24/100\n",
      "273/273 [==============================] - 283s 1s/step - loss: 0.8287 - accuracy: 0.6971 - val_loss: 1.3904 - val_accuracy: 0.5471\n",
      "Epoch 25/100\n",
      "273/273 [==============================] - 281s 1s/step - loss: 0.7820 - accuracy: 0.7148 - val_loss: 3.8540 - val_accuracy: 0.2313\n",
      "Epoch 26/100\n",
      "273/273 [==============================] - 283s 1s/step - loss: 0.7608 - accuracy: 0.7269 - val_loss: 3.1106 - val_accuracy: 0.2855\n",
      "Epoch 27/100\n",
      "273/273 [==============================] - 281s 1s/step - loss: 0.7111 - accuracy: 0.7453 - val_loss: 2.4333 - val_accuracy: 0.3585\n",
      "Epoch 28/100\n",
      "273/273 [==============================] - 280s 1s/step - loss: 0.6796 - accuracy: 0.7511 - val_loss: 4.4379 - val_accuracy: 0.2005\n",
      "Epoch 29/100\n",
      "273/273 [==============================] - 284s 1s/step - loss: 0.6650 - accuracy: 0.7634 - val_loss: 2.0983 - val_accuracy: 0.4281\n",
      "Epoch 30/100\n",
      "273/273 [==============================] - 282s 1s/step - loss: 0.6224 - accuracy: 0.7703 - val_loss: 3.5265 - val_accuracy: 0.2568\n",
      "Epoch 31/100\n",
      "273/273 [==============================] - 282s 1s/step - loss: 0.5829 - accuracy: 0.7909 - val_loss: 2.3703 - val_accuracy: 0.3824\n",
      "Epoch 32/100\n",
      "273/273 [==============================] - 282s 1s/step - loss: 0.5771 - accuracy: 0.7911 - val_loss: 3.2731 - val_accuracy: 0.2915\n",
      "Epoch 33/100\n",
      "273/273 [==============================] - 286s 1s/step - loss: 0.5455 - accuracy: 0.8012 - val_loss: 3.4257 - val_accuracy: 0.2616\n",
      "Epoch 34/100\n",
      "273/273 [==============================] - 283s 1s/step - loss: 0.5233 - accuracy: 0.8087 - val_loss: 2.9324 - val_accuracy: 0.3615\n",
      "Epoch 35/100\n",
      "273/273 [==============================] - 281s 1s/step - loss: 0.5191 - accuracy: 0.8132 - val_loss: 3.1214 - val_accuracy: 0.3234\n",
      "Epoch 36/100\n",
      "273/273 [==============================] - 285s 1s/step - loss: 0.4917 - accuracy: 0.8248 - val_loss: 3.3761 - val_accuracy: 0.2869\n",
      "Epoch 37/100\n",
      "273/273 [==============================] - 376s 1s/step - loss: 0.4604 - accuracy: 0.8369 - val_loss: 2.5470 - val_accuracy: 0.4058\n",
      "Epoch 38/100\n",
      "273/273 [==============================] - 334s 1s/step - loss: 0.4884 - accuracy: 0.8257 - val_loss: 3.1884 - val_accuracy: 0.3323\n",
      "Epoch 39/100\n",
      "273/273 [==============================] - 310s 1s/step - loss: 0.4262 - accuracy: 0.8469 - val_loss: 3.0057 - val_accuracy: 0.3245\n",
      "Epoch 40/100\n",
      "273/273 [==============================] - 309s 1s/step - loss: 0.4301 - accuracy: 0.8463 - val_loss: 4.6868 - val_accuracy: 0.2214\n",
      "Epoch 41/100\n",
      "273/273 [==============================] - 341s 1s/step - loss: 0.4116 - accuracy: 0.8512 - val_loss: 3.4429 - val_accuracy: 0.3176\n",
      "Epoch 42/100\n",
      "273/273 [==============================] - 330s 1s/step - loss: 0.4186 - accuracy: 0.8506 - val_loss: 2.6409 - val_accuracy: 0.4019\n",
      "Epoch 43/100\n",
      "273/273 [==============================] - 323s 1s/step - loss: 0.3917 - accuracy: 0.8612 - val_loss: 3.1726 - val_accuracy: 0.3337\n",
      "Epoch 44/100\n",
      "273/273 [==============================] - 320s 1s/step - loss: 0.3865 - accuracy: 0.8631 - val_loss: 1.6424 - val_accuracy: 0.5710\n",
      "Epoch 45/100\n",
      "273/273 [==============================] - 324s 1s/step - loss: 0.3478 - accuracy: 0.8749 - val_loss: 1.7811 - val_accuracy: 0.5496\n",
      "Epoch 46/100\n",
      "273/273 [==============================] - 330s 1s/step - loss: 0.3575 - accuracy: 0.8730 - val_loss: 1.8616 - val_accuracy: 0.5395\n",
      "Epoch 47/100\n",
      "273/273 [==============================] - 351s 1s/step - loss: 0.3557 - accuracy: 0.8757 - val_loss: 1.6803 - val_accuracy: 0.5735\n",
      "Epoch 48/100\n",
      "273/273 [==============================] - 465s 2s/step - loss: 0.3258 - accuracy: 0.8839 - val_loss: 4.0227 - val_accuracy: 0.2967\n",
      "Epoch 49/100\n",
      "273/273 [==============================] - 289s 1s/step - loss: 0.3257 - accuracy: 0.8860 - val_loss: 2.8606 - val_accuracy: 0.3948\n",
      "Epoch 50/100\n",
      "273/273 [==============================] - 290s 1s/step - loss: 0.3147 - accuracy: 0.8884 - val_loss: 2.8265 - val_accuracy: 0.4171\n",
      "Epoch 51/100\n",
      "273/273 [==============================] - 294s 1s/step - loss: 0.3015 - accuracy: 0.8949 - val_loss: 6.6803 - val_accuracy: 0.1672\n",
      "Epoch 52/100\n",
      "273/273 [==============================] - 291s 1s/step - loss: 0.3224 - accuracy: 0.8859 - val_loss: 2.8067 - val_accuracy: 0.3980\n",
      "Epoch 53/100\n",
      "273/273 [==============================] - 295s 1s/step - loss: 0.2855 - accuracy: 0.8982 - val_loss: 1.9861 - val_accuracy: 0.5225\n",
      "Epoch 54/100\n",
      "273/273 [==============================] - 292s 1s/step - loss: 0.3264 - accuracy: 0.8843 - val_loss: 2.1510 - val_accuracy: 0.4720\n",
      "Epoch 55/100\n",
      "273/273 [==============================] - 291s 1s/step - loss: 0.2889 - accuracy: 0.8990 - val_loss: 2.4011 - val_accuracy: 0.4718\n",
      "Epoch 56/100\n",
      "273/273 [==============================] - 295s 1s/step - loss: 0.3174 - accuracy: 0.8887 - val_loss: 2.2837 - val_accuracy: 0.4805\n",
      "Epoch 57/100\n"
     ]
    },
    {
     "name": "stdout",
     "output_type": "stream",
     "text": [
      "273/273 [==============================] - 292s 1s/step - loss: 0.2575 - accuracy: 0.9092 - val_loss: 2.9404 - val_accuracy: 0.4132\n",
      "Epoch 58/100\n",
      "273/273 [==============================] - 288s 1s/step - loss: 0.2614 - accuracy: 0.9093 - val_loss: 2.4493 - val_accuracy: 0.4819\n",
      "Epoch 59/100\n",
      "273/273 [==============================] - 293s 1s/step - loss: 0.2522 - accuracy: 0.9121 - val_loss: 2.0911 - val_accuracy: 0.5473\n",
      "Epoch 60/100\n",
      "273/273 [==============================] - 297s 1s/step - loss: 0.2743 - accuracy: 0.9060 - val_loss: 3.4762 - val_accuracy: 0.3528\n",
      "Epoch 61/100\n",
      "273/273 [==============================] - 298s 1s/step - loss: 0.2475 - accuracy: 0.9155 - val_loss: 3.0172 - val_accuracy: 0.4061\n",
      "Epoch 62/100\n",
      "273/273 [==============================] - 288s 1s/step - loss: 0.2707 - accuracy: 0.9062 - val_loss: 3.8707 - val_accuracy: 0.3254\n",
      "Epoch 63/100\n",
      "273/273 [==============================] - 297s 1s/step - loss: 0.2571 - accuracy: 0.9120 - val_loss: 5.4589 - val_accuracy: 0.2338\n",
      "Epoch 64/100\n",
      "273/273 [==============================] - 286s 1s/step - loss: 0.2584 - accuracy: 0.9100 - val_loss: 3.6105 - val_accuracy: 0.3734\n",
      "Epoch 65/100\n",
      "273/273 [==============================] - 285s 1s/step - loss: 0.2285 - accuracy: 0.9226 - val_loss: 4.2721 - val_accuracy: 0.2866\n",
      "Epoch 66/100\n",
      "273/273 [==============================] - 284s 1s/step - loss: 0.2294 - accuracy: 0.9228 - val_loss: 4.1277 - val_accuracy: 0.2990\n",
      "Epoch 67/100\n",
      "273/273 [==============================] - 285s 1s/step - loss: 0.2466 - accuracy: 0.9151 - val_loss: 2.2004 - val_accuracy: 0.5299\n",
      "Epoch 68/100\n",
      "273/273 [==============================] - 284s 1s/step - loss: 0.2538 - accuracy: 0.9109 - val_loss: 2.6733 - val_accuracy: 0.4405\n",
      "Epoch 69/100\n",
      "273/273 [==============================] - 284s 1s/step - loss: 0.1811 - accuracy: 0.9360 - val_loss: 1.7912 - val_accuracy: 0.5783\n",
      "Epoch 70/100\n",
      "273/273 [==============================] - 285s 1s/step - loss: 0.1972 - accuracy: 0.9328 - val_loss: 2.7946 - val_accuracy: 0.4476\n",
      "Epoch 71/100\n",
      "273/273 [==============================] - 285s 1s/step - loss: 0.2462 - accuracy: 0.9183 - val_loss: 4.8389 - val_accuracy: 0.2621\n",
      "Epoch 72/100\n",
      "273/273 [==============================] - 284s 1s/step - loss: 0.1859 - accuracy: 0.9357 - val_loss: 2.9414 - val_accuracy: 0.4162\n",
      "Epoch 73/100\n",
      "273/273 [==============================] - 285s 1s/step - loss: 0.2167 - accuracy: 0.9280 - val_loss: 2.1771 - val_accuracy: 0.5310\n",
      "Epoch 74/100\n",
      "273/273 [==============================] - 284s 1s/step - loss: 0.2043 - accuracy: 0.9305 - val_loss: 2.7254 - val_accuracy: 0.4545\n",
      "Epoch 75/100\n",
      "273/273 [==============================] - 284s 1s/step - loss: 0.2163 - accuracy: 0.9283 - val_loss: 1.9566 - val_accuracy: 0.5657\n",
      "Epoch 76/100\n",
      "273/273 [==============================] - 283s 1s/step - loss: 0.1734 - accuracy: 0.9415 - val_loss: 2.3988 - val_accuracy: 0.4825\n",
      "Epoch 77/100\n",
      "273/273 [==============================] - 287s 1s/step - loss: 0.2310 - accuracy: 0.9221 - val_loss: 2.2516 - val_accuracy: 0.5287\n",
      "Epoch 78/100\n",
      "273/273 [==============================] - 292s 1s/step - loss: 0.1889 - accuracy: 0.9363 - val_loss: 3.5011 - val_accuracy: 0.3960\n",
      "Epoch 79/100\n",
      "273/273 [==============================] - 289s 1s/step - loss: 0.1652 - accuracy: 0.9443 - val_loss: 3.6758 - val_accuracy: 0.3737\n",
      "Epoch 80/100\n",
      "273/273 [==============================] - 290s 1s/step - loss: 0.2167 - accuracy: 0.9247 - val_loss: 4.1519 - val_accuracy: 0.3091\n",
      "Epoch 81/100\n",
      "273/273 [==============================] - 286s 1s/step - loss: 0.1904 - accuracy: 0.9353 - val_loss: 2.9603 - val_accuracy: 0.4554\n",
      "Epoch 82/100\n",
      "273/273 [==============================] - 293s 1s/step - loss: 0.1806 - accuracy: 0.9375 - val_loss: 1.7947 - val_accuracy: 0.6068\n",
      "Epoch 83/100\n",
      "273/273 [==============================] - 298s 1s/step - loss: 0.1772 - accuracy: 0.9416 - val_loss: 2.5685 - val_accuracy: 0.4970\n",
      "Epoch 84/100\n",
      "273/273 [==============================] - 292s 1s/step - loss: 0.1969 - accuracy: 0.9331 - val_loss: 1.6664 - val_accuracy: 0.6328\n",
      "Epoch 85/100\n",
      "273/273 [==============================] - 290s 1s/step - loss: 0.1791 - accuracy: 0.9388 - val_loss: 3.7141 - val_accuracy: 0.3702\n",
      "Epoch 86/100\n",
      "273/273 [==============================] - 287s 1s/step - loss: 0.1788 - accuracy: 0.9384 - val_loss: 4.0797 - val_accuracy: 0.3624\n",
      "Epoch 87/100\n",
      "273/273 [==============================] - 300s 1s/step - loss: 0.1727 - accuracy: 0.9408 - val_loss: 4.7667 - val_accuracy: 0.3087\n",
      "Epoch 88/100\n",
      "273/273 [==============================] - 298s 1s/step - loss: 0.1730 - accuracy: 0.9431 - val_loss: 2.6441 - val_accuracy: 0.5023\n",
      "Epoch 89/100\n",
      "273/273 [==============================] - 289s 1s/step - loss: 0.1778 - accuracy: 0.9421 - val_loss: 1.6143 - val_accuracy: 0.6475\n",
      "Epoch 90/100\n",
      "273/273 [==============================] - 293s 1s/step - loss: 0.1604 - accuracy: 0.9480 - val_loss: 4.0016 - val_accuracy: 0.3342\n",
      "Epoch 91/100\n",
      "273/273 [==============================] - 233s 852ms/step - loss: 0.1520 - accuracy: 0.9482 - val_loss: 4.4317 - val_accuracy: 0.3376\n",
      "Epoch 92/100\n",
      "273/273 [==============================] - 180s 659ms/step - loss: 0.1542 - accuracy: 0.9452 - val_loss: 3.2080 - val_accuracy: 0.4316\n",
      "Epoch 93/100\n",
      "273/273 [==============================] - 177s 648ms/step - loss: 0.1411 - accuracy: 0.9519 - val_loss: 2.3134 - val_accuracy: 0.5505\n",
      "Epoch 94/100\n",
      "273/273 [==============================] - 181s 662ms/step - loss: 0.1776 - accuracy: 0.9410 - val_loss: 3.6053 - val_accuracy: 0.4198\n",
      "Epoch 95/100\n",
      "273/273 [==============================] - 174s 637ms/step - loss: 0.1983 - accuracy: 0.9352 - val_loss: 2.5709 - val_accuracy: 0.5080\n",
      "Epoch 96/100\n",
      "273/273 [==============================] - 178s 652ms/step - loss: 0.1267 - accuracy: 0.9591 - val_loss: 3.6601 - val_accuracy: 0.3780\n",
      "Epoch 97/100\n",
      "273/273 [==============================] - 174s 638ms/step - loss: 0.1324 - accuracy: 0.9561 - val_loss: 2.3150 - val_accuracy: 0.5296\n",
      "Epoch 98/100\n",
      "273/273 [==============================] - 171s 628ms/step - loss: 0.1917 - accuracy: 0.9402 - val_loss: 3.0717 - val_accuracy: 0.4373\n",
      "Epoch 99/100\n",
      "273/273 [==============================] - 173s 632ms/step - loss: 0.1819 - accuracy: 0.9388 - val_loss: 2.0289 - val_accuracy: 0.5730\n",
      "Epoch 100/100\n",
      "273/273 [==============================] - 173s 633ms/step - loss: 0.1145 - accuracy: 0.9641 - val_loss: 1.9658 - val_accuracy: 0.5912\n",
      "CPU times: user 1d 19h 59s, sys: 7h 57min 45s, total: 2d 2h 58min 45s\n",
      "Wall time: 7h 57min 2s\n"
     ]
    }
   ],
   "source": [
    "%%time\n",
    "history2 = model.fit(x_train, y_train, batch_size=64,epochs=100, validation_data = validation_set)"
   ]
  },
  {
   "cell_type": "code",
   "execution_count": 14,
   "metadata": {},
   "outputs": [
    {
     "name": "stdout",
     "output_type": "stream",
     "text": [
      "137/137 [==============================] - 11s 79ms/step - loss: 1.9658 - accuracy: 0.5912\n"
     ]
    },
    {
     "data": {
      "text/plain": [
       "[1.9658259153366089, 0.5911805033683777]"
      ]
     },
     "execution_count": 14,
     "metadata": {},
     "output_type": "execute_result"
    }
   ],
   "source": [
    "model.evaluate(x=x_test, y=y_test,verbose=1)"
   ]
  },
  {
   "cell_type": "code",
   "execution_count": 15,
   "metadata": {},
   "outputs": [
    {
     "data": {
      "image/png": "[encoded data removed]",
      "text/plain": [
       "<Figure size 432x288 with 1 Axes>"
      ]
     },
     "metadata": {
      "needs_background": "light"
     },
     "output_type": "display_data"
    }
   ],
   "source": [
    "plt.plot(history2.history['accuracy'])\n",
    "plt.plot(history2.history['val_accuracy'])\n",
    "plt.legend(['training', 'validation'], loc='upper left')\n",
    "plt.show()"
   ]
  },
  {
   "cell_type": "code",
   "execution_count": 16,
   "metadata": {},
   "outputs": [
    {
     "data": {
      "text/plain": [
       "0.9640560150146484"
      ]
     },
     "execution_count": 16,
     "metadata": {},
     "output_type": "execute_result"
    }
   ],
   "source": [
    "np.max(history2.history['accuracy'])"
   ]
  },
  {
   "cell_type": "code",
   "execution_count": 17,
   "metadata": {},
   "outputs": [
    {
     "data": {
      "text/plain": [
       "0.6474506258964539"
      ]
     },
     "execution_count": 17,
     "metadata": {},
     "output_type": "execute_result"
    }
   ],
   "source": [
    "np.max(history2.history['val_accuracy'])"
   ]
  },
  {
   "cell_type": "code",
   "execution_count": null,
   "metadata": {},
   "outputs": [],
   "source": []
  }
 ],
 "metadata": {
  "kernelspec": {
   "display_name": "Python 3",
   "language": "python",
   "name": "python3"
  },
  "language_info": {
   "codemirror_mode": {
    "name": "ipython",
    "version": 3
   },
   "file_extension": ".py",
   "mimetype": "text/x-python",
   "name": "python",
   "nbconvert_exporter": "python",
   "pygments_lexer": "ipython3",
   "version": "3.8.3"
  }
 },
 "nbformat": 4,
 "nbformat_minor": 2
}
