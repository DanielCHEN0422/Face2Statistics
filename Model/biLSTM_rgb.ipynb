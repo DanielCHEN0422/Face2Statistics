{
 "cells": [
  {
   "cell_type": "markdown",
   "metadata": {},
   "source": [
    "# TensorFlow2 DenseNet-BiLSTM-RGB"
   ]
  },
  {
   "cell_type": "markdown",
   "metadata": {},
   "source": [
    "## 1.导入数据\n",
    "使用BROOK数据集 "
   ]
  },
  {
   "cell_type": "code",
   "execution_count": 6,
   "metadata": {},
   "outputs": [],
   "source": [
    "import numpy as np\n",
    "import tensorflow as tf\n",
    "from sklearn.metrics import accuracy_score\n",
    "from tensorflow import keras\n",
    "from PIL import Image\n",
    "import cv2\n",
    "import matplotlib.pyplot as plt\n",
    "from tensorflow.keras.applications import DenseNet201\n",
    "import matplotlib.colors as colors\n",
    "import tensorflow_addons as tfa\n",
    "import os.path \n",
    "from tensorflow_addons.layers import CRF"
   ]
  },
  {
   "cell_type": "code",
   "execution_count": 7,
   "metadata": {},
   "outputs": [],
   "source": [
    "#txt_file = 'hr/train19.txt'\n",
    "txt_file = 'dataset/speedtxt/train.txt'\n",
    "f = open(txt_file)\n",
    "imgspaths = []\n",
    "speeds = []\n",
    "for line in f.readlines():\n",
    "    filename = line.split(',')[0]\n",
    "    speed = line.split(',')[1]\n",
    "    if speed[-1] == '\\n':\n",
    "        speed = speed[:-1]\n",
    "        imgspaths.append(filename)\n",
    "        speeds.append(int(speed))\n",
    "    \n",
    "y_train = np.array(speeds)\n",
    "\n"
   ]
  },
  {
   "cell_type": "code",
   "execution_count": 8,
   "metadata": {},
   "outputs": [],
   "source": [
    "max_unit = np.max(y_train)"
   ]
  },
  {
   "cell_type": "code",
   "execution_count": 10,
   "metadata": {},
   "outputs": [],
   "source": [
    "# txt_file = 'hr/test19.txt'\n",
    "txt_file = 'dataset/speedtxt/test.txt'\n",
    "f = open(txt_file)\n",
    "imgspath2 = []\n",
    "speeds = []\n",
    "for line in f.readlines():\n",
    "    filename = line.split(',')[0]\n",
    "    speed = line.split(',')[1]\n",
    "    if speed[-1] == '\\n':\n",
    "        speed = speed[:-1]\n",
    "        imgspath2.append(filename)\n",
    "        speeds.append(int(speed))\n",
    "y_test = np.array(speeds)\n",
    "        "
   ]
  },
  {
   "cell_type": "code",
   "execution_count": 11,
   "metadata": {},
   "outputs": [],
   "source": [
    "# imgspaths = ['1565751556792.jpg','1565751556904.jpg','1565751556968.jpg','1565751556968.jpg','1565751556968.jpg','1565751556968.jpg','1565751556968.jpg','1565751556968.jpg','1565751556968.jpg','1565751556968.jpg','1565751556968.jpg','1565751556968.jpg']\n",
    "# imgspaths = ['1565751556792.jpg','1565751556904.jpg','1565751562024.jpg']\n",
    "# y_train = [[53],[54],[55]]\n",
    "x_train = []\n",
    "for imgspath in imgspaths:\n",
    "    path1 = 'dataset/train/'+imgspath\n",
    "    path2 = 'dataset/test/'+imgspath\n",
    "    path3 = 'dataset/val/'+imgspath\n",
    "    path4 = '../Model-Training2/dataset/train/'+imgspath\n",
    "    path5 = '../Model-Training2/dataset/test/'+imgspath\n",
    "    path6 = '../Model-Training2/dataset/val/'+imgspath\n",
    "    if os.path.exists(path1):\n",
    "        img = np.array(Image.open(path1))\n",
    "    elif os.path.exists(path2):\n",
    "        img = np.array(Image.open(path2))\n",
    "    elif os.path.exists(path3):\n",
    "        img = np.array(Image.open(path3))\n",
    "    elif os.path.exists(path4):\n",
    "        img = np.array(Image.open(path4))\n",
    "    elif os.path.exists(path5):\n",
    "        img = np.array(Image.open(path5))\n",
    "    else:\n",
    "        img = np.array(Image.open(path6))\n",
    "        \n",
    "#     img = colors.rgb_to_hsv(img)\n",
    "    img = cv2.resize(img,(32,32))\n",
    "    x_train.append(img)\n",
    "x_train = np.array(x_train)"
   ]
  },
  {
   "cell_type": "code",
   "execution_count": 12,
   "metadata": {},
   "outputs": [],
   "source": [
    "# imgspath2 = ['1565752827880.jpg']\n",
    "# y_test = [[55]]\n",
    "x_test = []\n",
    "for imgspath in imgspath2:\n",
    "    path1 = 'dataset/train/'+imgspath\n",
    "    path2 = 'dataset/test/'+imgspath\n",
    "    path3 = 'dataset/val/'+imgspath\n",
    "    path4 = '../Model-Training2/dataset/train/'+imgspath\n",
    "    path5 = '../Model-Training2/dataset/test/'+imgspath\n",
    "    path6 = '../Model-Training2/dataset/val/'+imgspath\n",
    "    if os.path.exists(path1):\n",
    "        img = np.array(Image.open(path1))\n",
    "    elif os.path.exists(path2):\n",
    "        img = np.array(Image.open(path2))\n",
    "    elif os.path.exists(path3):\n",
    "        img = np.array(Image.open(path3))\n",
    "    elif os.path.exists(path4):\n",
    "        img = np.array(Image.open(path4))\n",
    "    elif os.path.exists(path5):\n",
    "        img = np.array(Image.open(path5))\n",
    "    else:\n",
    "        img = np.array(Image.open(path6))\n",
    "        \n",
    "#     img = colors.rgb_to_hsv(img)\n",
    "    img = cv2.resize(img,(32,32))\n",
    "    x_test.append(img)\n",
    "x_test = np.array(x_test)"
   ]
  },
  {
   "cell_type": "code",
   "execution_count": 13,
   "metadata": {},
   "outputs": [],
   "source": [
    "y_train = keras.utils.to_categorical(y_train)\n",
    "y_test = keras.utils.to_categorical(y_test)"
   ]
  },
  {
   "cell_type": "code",
   "execution_count": 14,
   "metadata": {},
   "outputs": [],
   "source": [
    "validation_set = (x_test, y_test)"
   ]
  },
  {
   "cell_type": "markdown",
   "metadata": {},
   "source": [
    "## CNN和LSTM结果合并"
   ]
  },
  {
   "cell_type": "code",
   "execution_count": 15,
   "metadata": {},
   "outputs": [],
   "source": [
    "from tensorflow.keras import layers\n",
    "model = keras.Sequential()"
   ]
  },
  {
   "cell_type": "code",
   "execution_count": 16,
   "metadata": {},
   "outputs": [
    {
     "name": "stdout",
     "output_type": "stream",
     "text": [
      "Downloading data from https://storage.googleapis.com/tensorflow/keras-applications/densenet/densenet201_weights_tf_dim_ordering_tf_kernels_notop.h5\n",
      "74842112/74836368 [==============================] - 19s 0us/step\n",
      "74850304/74836368 [==============================] - 19s 0us/step\n"
     ]
    }
   ],
   "source": [
    "x_shape = x_train.shape\n",
    "cnet2 = DenseNet201(\n",
    "    input_shape=(x_shape[1], x_shape[2], x_shape[3]),\n",
    "    weights='imagenet',\n",
    "    include_top=False\n",
    ")\n",
    "cnet2.trainable = True\n",
    "img_input = layers.Input(shape=(x_shape[1], x_shape[2], x_shape[3]))\n",
    "base_model = cnet2(img_input)\n",
    "\n",
    "# pool = layers.GlobalAveragePooling2D()(final_layer)\n",
    "flat = layers.Flatten()(base_model)\n",
    "dense1 = layers.Dense(64)(flat)"
   ]
  },
  {
   "cell_type": "code",
   "execution_count": 17,
   "metadata": {},
   "outputs": [],
   "source": [
    "reshape = layers.Reshape(target_shape=(x_shape[1]*x_shape[2], x_shape[3]))(img_input)\n",
    "lstm_layer = layers.Bidirectional(keras.layers.LSTM(50, return_sequences=False))(reshape)\n",
    "dense2 = layers.Dense(64)(lstm_layer)"
   ]
  },
  {
   "cell_type": "code",
   "execution_count": 18,
   "metadata": {},
   "outputs": [
    {
     "name": "stdout",
     "output_type": "stream",
     "text": [
      "Model: \"model\"\n",
      "__________________________________________________________________________________________________\n",
      " Layer (type)                   Output Shape         Param #     Connected to                     \n",
      "==================================================================================================\n",
      " input_2 (InputLayer)           [(None, 32, 32, 3)]  0           []                               \n",
      "                                                                                                  \n",
      " densenet201 (Functional)       (None, 1, 1, 1920)   18321984    ['input_2[0][0]']                \n",
      "                                                                                                  \n",
      " reshape (Reshape)              (None, 1024, 3)      0           ['input_2[0][0]']                \n",
      "                                                                                                  \n",
      " flatten (Flatten)              (None, 1920)         0           ['densenet201[0][0]']            \n",
      "                                                                                                  \n",
      " bidirectional (Bidirectional)  (None, 100)          21600       ['reshape[0][0]']                \n",
      "                                                                                                  \n",
      " dense (Dense)                  (None, 64)           122944      ['flatten[0][0]']                \n",
      "                                                                                                  \n",
      " dense_1 (Dense)                (None, 64)           6464        ['bidirectional[0][0]']          \n",
      "                                                                                                  \n",
      " concatenate (Concatenate)      (None, 128)          0           ['dense[0][0]',                  \n",
      "                                                                  'dense_1[0][0]']                \n",
      "                                                                                                  \n",
      " dense_2 (Dense)                (None, 101)          13029       ['concatenate[0][0]']            \n",
      "                                                                                                  \n",
      "==================================================================================================\n",
      "Total params: 18,486,021\n",
      "Trainable params: 18,256,965\n",
      "Non-trainable params: 229,056\n",
      "__________________________________________________________________________________________________\n"
     ]
    }
   ],
   "source": [
    "merged_layer = layers.concatenate([dense1, dense2])\n",
    "# merged_layer = dense1\n",
    "outt = layers.Dense(max_unit+1,activation='softmax')(merged_layer)\n",
    "model = keras.Model(inputs=img_input, outputs=outt)\n",
    "model.compile(optimizer=keras.optimizers.Adam(),\n",
    "             loss=keras.losses.CategoricalCrossentropy(),\n",
    "             metrics=['accuracy'])\n",
    "model.summary()"
   ]
  },
  {
   "cell_type": "code",
   "execution_count": 19,
   "metadata": {
    "scrolled": false
   },
   "outputs": [
    {
     "name": "stdout",
     "output_type": "stream",
     "text": [
      "Epoch 1/100\n",
      "850/850 [==============================] - 2225s 3s/step - loss: 2.4091 - accuracy: 0.4305 - val_loss: 2.3176 - val_accuracy: 0.4369\n",
      "Epoch 2/100\n",
      "850/850 [==============================] - 2131s 3s/step - loss: 2.0362 - accuracy: 0.4706 - val_loss: 2.2112 - val_accuracy: 0.4431\n",
      "Epoch 3/100\n",
      "850/850 [==============================] - 2483s 3s/step - loss: 1.8488 - accuracy: 0.4889 - val_loss: 3.1887 - val_accuracy: 0.3005\n",
      "Epoch 4/100\n",
      "850/850 [==============================] - 2640s 3s/step - loss: 1.7950 - accuracy: 0.4970 - val_loss: 2.1402 - val_accuracy: 0.4503\n",
      "Epoch 5/100\n",
      "850/850 [==============================] - 2409s 3s/step - loss: 1.7801 - accuracy: 0.4991 - val_loss: 1.9703 - val_accuracy: 0.4742\n",
      "Epoch 6/100\n",
      "850/850 [==============================] - 2380s 3s/step - loss: 1.5866 - accuracy: 0.5263 - val_loss: 1.8057 - val_accuracy: 0.4893\n",
      "Epoch 7/100\n",
      "850/850 [==============================] - 2361s 3s/step - loss: 1.4812 - accuracy: 0.5437 - val_loss: 1.9987 - val_accuracy: 0.4745\n",
      "Epoch 8/100\n",
      "850/850 [==============================] - 2364s 3s/step - loss: 1.3912 - accuracy: 0.5604 - val_loss: 1.6265 - val_accuracy: 0.5212\n",
      "Epoch 9/100\n",
      "850/850 [==============================] - 2395s 3s/step - loss: 1.3226 - accuracy: 0.5757 - val_loss: 2.0673 - val_accuracy: 0.4498\n",
      "Epoch 10/100\n",
      "850/850 [==============================] - 2442s 3s/step - loss: 1.2623 - accuracy: 0.5863 - val_loss: 1.7738 - val_accuracy: 0.5039\n",
      "Epoch 11/100\n",
      "850/850 [==============================] - 2468s 3s/step - loss: 1.2066 - accuracy: 0.6023 - val_loss: 1.6357 - val_accuracy: 0.5248\n",
      "Epoch 12/100\n",
      "850/850 [==============================] - 2495s 3s/step - loss: 1.2143 - accuracy: 0.6029 - val_loss: 1.7333 - val_accuracy: 0.5199\n",
      "Epoch 13/100\n",
      "850/850 [==============================] - 2543s 3s/step - loss: 1.1926 - accuracy: 0.6104 - val_loss: 2.1184 - val_accuracy: 0.4774\n",
      "Epoch 14/100\n",
      "850/850 [==============================] - 2543s 3s/step - loss: 1.1513 - accuracy: 0.6133 - val_loss: 1.5784 - val_accuracy: 0.5336\n",
      "Epoch 15/100\n",
      "850/850 [==============================] - 2529s 3s/step - loss: 1.0467 - accuracy: 0.6423 - val_loss: 1.5593 - val_accuracy: 0.5477\n",
      "Epoch 16/100\n",
      "850/850 [==============================] - 2524s 3s/step - loss: 0.9898 - accuracy: 0.6603 - val_loss: 1.5232 - val_accuracy: 0.5596\n",
      "Epoch 17/100\n",
      "850/850 [==============================] - 2540s 3s/step - loss: 0.9595 - accuracy: 0.6681 - val_loss: 1.4802 - val_accuracy: 0.5580\n",
      "Epoch 18/100\n",
      "850/850 [==============================] - 2515s 3s/step - loss: 0.9249 - accuracy: 0.6774 - val_loss: 2.8531 - val_accuracy: 0.4301\n",
      "Epoch 19/100\n",
      "850/850 [==============================] - 2581s 3s/step - loss: 0.9019 - accuracy: 0.6859 - val_loss: 1.5699 - val_accuracy: 0.5600\n",
      "Epoch 20/100\n",
      "850/850 [==============================] - 2565s 3s/step - loss: 0.8653 - accuracy: 0.6970 - val_loss: 1.5424 - val_accuracy: 0.5544\n",
      "Epoch 21/100\n",
      "850/850 [==============================] - 2580s 3s/step - loss: 0.8296 - accuracy: 0.7058 - val_loss: 1.4839 - val_accuracy: 0.5771\n",
      "Epoch 22/100\n",
      "850/850 [==============================] - 2634s 3s/step - loss: 0.8069 - accuracy: 0.7152 - val_loss: 1.5722 - val_accuracy: 0.5625\n",
      "Epoch 23/100\n",
      "850/850 [==============================] - 2530s 3s/step - loss: 0.7726 - accuracy: 0.7266 - val_loss: 1.3943 - val_accuracy: 0.5932\n",
      "Epoch 24/100\n",
      "850/850 [==============================] - 2465s 3s/step - loss: 0.7461 - accuracy: 0.7349 - val_loss: 1.4575 - val_accuracy: 0.5829\n",
      "Epoch 25/100\n",
      "850/850 [==============================] - 2460s 3s/step - loss: 0.7223 - accuracy: 0.7439 - val_loss: 1.4646 - val_accuracy: 0.5880\n",
      "Epoch 26/100\n",
      "850/850 [==============================] - 2459s 3s/step - loss: 0.8152 - accuracy: 0.7207 - val_loss: 1.3127 - val_accuracy: 0.6131\n",
      "Epoch 27/100\n",
      "850/850 [==============================] - 2489s 3s/step - loss: 0.6819 - accuracy: 0.7551 - val_loss: 1.1594 - val_accuracy: 0.6408\n",
      "Epoch 28/100\n",
      "850/850 [==============================] - 2652s 3s/step - loss: 0.6317 - accuracy: 0.7704 - val_loss: 1.6694 - val_accuracy: 0.5692\n",
      "Epoch 29/100\n",
      "850/850 [==============================] - 3865s 5s/step - loss: 0.6201 - accuracy: 0.7756 - val_loss: 1.5885 - val_accuracy: 0.5836\n",
      "Epoch 30/100\n",
      "850/850 [==============================] - 3575s 4s/step - loss: 0.6081 - accuracy: 0.7812 - val_loss: 2.6571 - val_accuracy: 0.4657\n",
      "Epoch 31/100\n",
      "850/850 [==============================] - 2552s 3s/step - loss: 0.5905 - accuracy: 0.7894 - val_loss: 3.2331 - val_accuracy: 0.4220\n",
      "Epoch 32/100\n",
      "850/850 [==============================] - 2590s 3s/step - loss: 0.5760 - accuracy: 0.7917 - val_loss: 1.5012 - val_accuracy: 0.6037\n",
      "Epoch 33/100\n",
      "850/850 [==============================] - 2524s 3s/step - loss: 0.5490 - accuracy: 0.8041 - val_loss: 1.7391 - val_accuracy: 0.5579\n",
      "Epoch 34/100\n",
      "850/850 [==============================] - 3367s 4s/step - loss: 0.5318 - accuracy: 0.8083 - val_loss: 1.4992 - val_accuracy: 0.6085\n",
      "Epoch 35/100\n",
      "850/850 [==============================] - 2635s 3s/step - loss: 0.5162 - accuracy: 0.8138 - val_loss: 2.4005 - val_accuracy: 0.4886\n",
      "Epoch 36/100\n",
      "850/850 [==============================] - 2980s 4s/step - loss: 0.5027 - accuracy: 0.8206 - val_loss: 1.6832 - val_accuracy: 0.5938\n",
      "Epoch 37/100\n",
      "850/850 [==============================] - 4408s 5s/step - loss: 0.4881 - accuracy: 0.8242 - val_loss: 1.3595 - val_accuracy: 0.6242\n",
      "Epoch 38/100\n",
      "850/850 [==============================] - 3243s 4s/step - loss: 0.4608 - accuracy: 0.8356 - val_loss: 1.9754 - val_accuracy: 0.5661\n",
      "Epoch 39/100\n",
      "850/850 [==============================] - 2712s 3s/step - loss: 0.4481 - accuracy: 0.8395 - val_loss: 1.5836 - val_accuracy: 0.6070\n",
      "Epoch 40/100\n",
      "850/850 [==============================] - 2559s 3s/step - loss: 0.4362 - accuracy: 0.8432 - val_loss: 1.5234 - val_accuracy: 0.6242\n",
      "Epoch 41/100\n",
      "850/850 [==============================] - 2600s 3s/step - loss: 0.4206 - accuracy: 0.8486 - val_loss: 1.6166 - val_accuracy: 0.6214\n",
      "Epoch 42/100\n",
      "850/850 [==============================] - 2632s 3s/step - loss: 0.6314 - accuracy: 0.7918 - val_loss: 1.4244 - val_accuracy: 0.6395\n",
      "Epoch 43/100\n",
      "850/850 [==============================] - 2561s 3s/step - loss: 0.3762 - accuracy: 0.8650 - val_loss: 1.4741 - val_accuracy: 0.6395\n",
      "Epoch 44/100\n",
      "850/850 [==============================] - 2496s 3s/step - loss: 0.3721 - accuracy: 0.8669 - val_loss: 1.5463 - val_accuracy: 0.6244\n",
      "Epoch 45/100\n",
      "850/850 [==============================] - 2498s 3s/step - loss: 0.3651 - accuracy: 0.8692 - val_loss: 1.6070 - val_accuracy: 0.6270\n",
      "Epoch 46/100\n",
      "850/850 [==============================] - 2498s 3s/step - loss: 0.4425 - accuracy: 0.8488 - val_loss: 1.5217 - val_accuracy: 0.6424\n",
      "Epoch 47/100\n",
      "850/850 [==============================] - 2465s 3s/step - loss: 0.3366 - accuracy: 0.8789 - val_loss: 1.5737 - val_accuracy: 0.6384\n",
      "Epoch 48/100\n",
      "850/850 [==============================] - 2449s 3s/step - loss: 0.3391 - accuracy: 0.8799 - val_loss: 1.8961 - val_accuracy: 0.5884\n",
      "Epoch 49/100\n",
      "850/850 [==============================] - 2479s 3s/step - loss: 0.3330 - accuracy: 0.8825 - val_loss: 1.6060 - val_accuracy: 0.6338\n",
      "Epoch 50/100\n",
      "850/850 [==============================] - 2442s 3s/step - loss: 0.3288 - accuracy: 0.8836 - val_loss: 1.6224 - val_accuracy: 0.6310\n",
      "Epoch 51/100\n",
      "850/850 [==============================] - 2452s 3s/step - loss: 0.3139 - accuracy: 0.8888 - val_loss: 1.6519 - val_accuracy: 0.6320\n",
      "Epoch 52/100\n",
      "850/850 [==============================] - 2459s 3s/step - loss: 0.3142 - accuracy: 0.8888 - val_loss: 1.7861 - val_accuracy: 0.6173\n",
      "Epoch 53/100\n",
      "850/850 [==============================] - 2431s 3s/step - loss: 0.2986 - accuracy: 0.8934 - val_loss: 1.8288 - val_accuracy: 0.6288\n",
      "Epoch 54/100\n",
      "850/850 [==============================] - 2469s 3s/step - loss: 0.2899 - accuracy: 0.8972 - val_loss: 2.3611 - val_accuracy: 0.5576\n",
      "Epoch 55/100\n",
      "850/850 [==============================] - 2430s 3s/step - loss: 0.2814 - accuracy: 0.9019 - val_loss: 3.2768 - val_accuracy: 0.5331\n",
      "Epoch 56/100\n",
      "850/850 [==============================] - 2430s 3s/step - loss: 0.2726 - accuracy: 0.9037 - val_loss: 2.2864 - val_accuracy: 0.5834\n",
      "Epoch 57/100\n"
     ]
    },
    {
     "name": "stdout",
     "output_type": "stream",
     "text": [
      "850/850 [==============================] - 2476s 3s/step - loss: 0.2797 - accuracy: 0.9029 - val_loss: 2.0366 - val_accuracy: 0.6117\n",
      "Epoch 58/100\n",
      "850/850 [==============================] - 2410s 3s/step - loss: 0.2521 - accuracy: 0.9118 - val_loss: 1.9622 - val_accuracy: 0.6148\n",
      "Epoch 59/100\n",
      "850/850 [==============================] - 2415s 3s/step - loss: 0.2567 - accuracy: 0.9119 - val_loss: 2.6526 - val_accuracy: 0.5696\n",
      "Epoch 60/100\n",
      "850/850 [==============================] - 2476s 3s/step - loss: 0.2490 - accuracy: 0.9122 - val_loss: 2.1069 - val_accuracy: 0.6244\n",
      "Epoch 61/100\n",
      "850/850 [==============================] - 2519s 3s/step - loss: 0.2421 - accuracy: 0.9155 - val_loss: 1.9030 - val_accuracy: 0.6251\n",
      "Epoch 62/100\n",
      "850/850 [==============================] - 2441s 3s/step - loss: 0.2319 - accuracy: 0.9186 - val_loss: 1.9393 - val_accuracy: 0.6274\n",
      "Epoch 63/100\n",
      "850/850 [==============================] - 2433s 3s/step - loss: 0.2295 - accuracy: 0.9201 - val_loss: 1.9352 - val_accuracy: 0.6461\n",
      "Epoch 64/100\n",
      "850/850 [==============================] - 2426s 3s/step - loss: 0.6649 - accuracy: 0.8089 - val_loss: 1.4780 - val_accuracy: 0.6151\n",
      "Epoch 65/100\n",
      "850/850 [==============================] - 2424s 3s/step - loss: 0.3934 - accuracy: 0.8613 - val_loss: 1.5239 - val_accuracy: 0.6532\n",
      "Epoch 66/100\n",
      "850/850 [==============================] - 2457s 3s/step - loss: 0.2060 - accuracy: 0.9268 - val_loss: 1.7611 - val_accuracy: 0.6596\n",
      "Epoch 67/100\n",
      "850/850 [==============================] - 2453s 3s/step - loss: 0.1735 - accuracy: 0.9388 - val_loss: 1.8339 - val_accuracy: 0.6597\n",
      "Epoch 68/100\n",
      "850/850 [==============================] - 2493s 3s/step - loss: 0.1816 - accuracy: 0.9361 - val_loss: 2.1238 - val_accuracy: 0.6270\n",
      "Epoch 69/100\n",
      "850/850 [==============================] - 2435s 3s/step - loss: 0.1917 - accuracy: 0.9337 - val_loss: 2.1852 - val_accuracy: 0.6151\n",
      "Epoch 70/100\n",
      "850/850 [==============================] - 2419s 3s/step - loss: 0.1978 - accuracy: 0.9312 - val_loss: 2.1240 - val_accuracy: 0.6295\n",
      "Epoch 71/100\n",
      "850/850 [==============================] - 2523s 3s/step - loss: 0.1920 - accuracy: 0.9334 - val_loss: 2.0413 - val_accuracy: 0.6380\n",
      "Epoch 72/100\n",
      "850/850 [==============================] - 2483s 3s/step - loss: 0.2005 - accuracy: 0.9313 - val_loss: 2.1359 - val_accuracy: 0.6307\n",
      "Epoch 73/100\n",
      "850/850 [==============================] - 2400s 3s/step - loss: 0.1973 - accuracy: 0.9323 - val_loss: 2.0025 - val_accuracy: 0.6306\n",
      "Epoch 74/100\n",
      "850/850 [==============================] - 2431s 3s/step - loss: 0.1914 - accuracy: 0.9330 - val_loss: 2.4236 - val_accuracy: 0.5963\n",
      "Epoch 75/100\n",
      "850/850 [==============================] - 2411s 3s/step - loss: 0.1865 - accuracy: 0.9367 - val_loss: 2.6069 - val_accuracy: 0.5984\n",
      "Epoch 76/100\n",
      "850/850 [==============================] - 2425s 3s/step - loss: 0.1841 - accuracy: 0.9368 - val_loss: 2.0978 - val_accuracy: 0.6417\n",
      "Epoch 77/100\n",
      "850/850 [==============================] - 2371s 3s/step - loss: 0.1835 - accuracy: 0.9370 - val_loss: 2.0577 - val_accuracy: 0.6380\n",
      "Epoch 78/100\n",
      "850/850 [==============================] - 2365s 3s/step - loss: 0.2605 - accuracy: 0.9155 - val_loss: 1.8815 - val_accuracy: 0.6459\n",
      "Epoch 79/100\n",
      "850/850 [==============================] - 2356s 3s/step - loss: 0.3531 - accuracy: 0.8907 - val_loss: 1.6704 - val_accuracy: 0.6476\n",
      "Epoch 80/100\n",
      "850/850 [==============================] - 2354s 3s/step - loss: 0.1696 - accuracy: 0.9406 - val_loss: 1.8428 - val_accuracy: 0.6597\n",
      "Epoch 81/100\n",
      "850/850 [==============================] - 2383s 3s/step - loss: 0.1284 - accuracy: 0.9562 - val_loss: 2.3651 - val_accuracy: 0.6123\n",
      "Epoch 82/100\n",
      "850/850 [==============================] - 2376s 3s/step - loss: 0.1512 - accuracy: 0.9493 - val_loss: 2.0833 - val_accuracy: 0.6408\n",
      "Epoch 83/100\n",
      "850/850 [==============================] - 2369s 3s/step - loss: 0.1675 - accuracy: 0.9432 - val_loss: 2.2094 - val_accuracy: 0.6316\n",
      "Epoch 84/100\n",
      "850/850 [==============================] - 2388s 3s/step - loss: 0.1598 - accuracy: 0.9462 - val_loss: 2.2514 - val_accuracy: 0.6194\n",
      "Epoch 85/100\n",
      "850/850 [==============================] - 2374s 3s/step - loss: 0.1631 - accuracy: 0.9442 - val_loss: 2.3024 - val_accuracy: 0.6279\n",
      "Epoch 86/100\n",
      "850/850 [==============================] - 2416s 3s/step - loss: 0.1607 - accuracy: 0.9451 - val_loss: 2.3926 - val_accuracy: 0.6141\n",
      "Epoch 87/100\n",
      "850/850 [==============================] - 2371s 3s/step - loss: 0.1578 - accuracy: 0.9474 - val_loss: 4.1191 - val_accuracy: 0.5476\n",
      "Epoch 88/100\n",
      "850/850 [==============================] - 2376s 3s/step - loss: 0.1476 - accuracy: 0.9502 - val_loss: 2.2873 - val_accuracy: 0.6190\n",
      "Epoch 89/100\n",
      "850/850 [==============================] - 2359s 3s/step - loss: 0.1582 - accuracy: 0.9465 - val_loss: 2.1024 - val_accuracy: 0.6373\n",
      "Epoch 90/100\n",
      "850/850 [==============================] - 2377s 3s/step - loss: 0.1535 - accuracy: 0.9487 - val_loss: 2.3591 - val_accuracy: 0.6172\n",
      "Epoch 91/100\n",
      "850/850 [==============================] - 2350s 3s/step - loss: 0.1427 - accuracy: 0.9519 - val_loss: 2.2405 - val_accuracy: 0.6383\n",
      "Epoch 92/100\n",
      "850/850 [==============================] - 2365s 3s/step - loss: 0.1399 - accuracy: 0.9521 - val_loss: 2.8458 - val_accuracy: 0.5681\n",
      "Epoch 93/100\n",
      "850/850 [==============================] - 2398s 3s/step - loss: 0.1487 - accuracy: 0.9495 - val_loss: 2.3728 - val_accuracy: 0.6237\n",
      "Epoch 94/100\n",
      "850/850 [==============================] - 2375s 3s/step - loss: 0.1322 - accuracy: 0.9541 - val_loss: 2.4972 - val_accuracy: 0.6309\n",
      "Epoch 95/100\n",
      "850/850 [==============================] - 2408s 3s/step - loss: 0.7419 - accuracy: 0.7929 - val_loss: 1.4730 - val_accuracy: 0.6475\n",
      "Epoch 96/100\n",
      "850/850 [==============================] - 2389s 3s/step - loss: 0.2547 - accuracy: 0.9116 - val_loss: 1.6483 - val_accuracy: 0.6678\n",
      "Epoch 97/100\n",
      "850/850 [==============================] - 2389s 3s/step - loss: 0.1265 - accuracy: 0.9561 - val_loss: 1.8130 - val_accuracy: 0.6720\n",
      "Epoch 98/100\n",
      "850/850 [==============================] - 2429s 3s/step - loss: 0.0883 - accuracy: 0.9704 - val_loss: 2.0355 - val_accuracy: 0.6727\n",
      "Epoch 99/100\n",
      "850/850 [==============================] - 2461s 3s/step - loss: 0.0955 - accuracy: 0.9677 - val_loss: 2.2004 - val_accuracy: 0.6463\n",
      "Epoch 100/100\n",
      "850/850 [==============================] - 2458s 3s/step - loss: 0.0943 - accuracy: 0.9682 - val_loss: 2.2365 - val_accuracy: 0.6607\n",
      "Wall time: 2d 22h 6min 49s\n"
     ]
    }
   ],
   "source": [
    "%%time\n",
    "history2 = model.fit(x_train, y_train, batch_size=64,epochs=100, validation_data = validation_set)"
   ]
  },
  {
   "cell_type": "code",
   "execution_count": 20,
   "metadata": {},
   "outputs": [
    {
     "name": "stdout",
     "output_type": "stream",
     "text": [
      "224/224 [==============================] - 82s 342ms/step - loss: 2.2365 - accuracy: 0.6607\n"
     ]
    },
    {
     "data": {
      "text/plain": [
       "[2.2365236282348633, 0.6607142686843872]"
      ]
     },
     "execution_count": 20,
     "metadata": {},
     "output_type": "execute_result"
    }
   ],
   "source": [
    "model.evaluate(x=x_test, y=y_test,verbose=1)"
   ]
  },
  {
   "cell_type": "code",
   "execution_count": 21,
   "metadata": {},
   "outputs": [
    {
     "data": {
      "image/png": "[encoded data removed]",
      "text/plain": [
       "<Figure size 432x288 with 1 Axes>"
      ]
     },
     "metadata": {
      "needs_background": "light"
     },
     "output_type": "display_data"
    }
   ],
   "source": [
    "plt.plot(history2.history['accuracy'])\n",
    "plt.plot(history2.history['val_accuracy'])\n",
    "plt.legend(['training', 'validation'], loc='upper left')\n",
    "plt.show()"
   ]
  },
  {
   "cell_type": "code",
   "execution_count": 22,
   "metadata": {},
   "outputs": [
    {
     "data": {
      "text/plain": [
       "0.970404863357544"
      ]
     },
     "execution_count": 22,
     "metadata": {},
     "output_type": "execute_result"
    }
   ],
   "source": [
    "np.max(history2.history['accuracy'])"
   ]
  },
  {
   "cell_type": "code",
   "execution_count": 23,
   "metadata": {},
   "outputs": [
    {
     "data": {
      "text/plain": [
       "0.6727120280265808"
      ]
     },
     "execution_count": 23,
     "metadata": {},
     "output_type": "execute_result"
    }
   ],
   "source": [
    "np.max(history2.history['val_accuracy'])"
   ]
  },
  {
   "cell_type": "code",
   "execution_count": null,
   "metadata": {},
   "outputs": [],
   "source": []
  },
  {
   "cell_type": "code",
   "execution_count": null,
   "metadata": {},
   "outputs": [],
   "source": []
  }
 ],
 "metadata": {
  "kernelspec": {
   "display_name": "Python 3 (ipykernel)",
   "language": "python",
   "name": "python3"
  },
  "language_info": {
   "codemirror_mode": {
    "name": "ipython",
    "version": 3
   },
   "file_extension": ".py",
   "mimetype": "text/x-python",
   "name": "python",
   "nbconvert_exporter": "python",
   "pygments_lexer": "ipython3",
   "version": "3.8.12"
  }
 },
 "nbformat": 4,
 "nbformat_minor": 2
}
