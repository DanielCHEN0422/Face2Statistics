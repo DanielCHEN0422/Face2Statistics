{
 "cells": [
  {
   "cell_type": "markdown",
   "metadata": {},
   "source": [
    "# TensorFlow2 DenseNet-BiLSTM-CRF"
   ]
  },
  {
   "cell_type": "markdown",
   "metadata": {},
   "source": [
    "## 1. Input"
   ]
  },
  {
   "cell_type": "code",
   "execution_count": 4,
   "metadata": {},
   "outputs": [],
   "source": [
    "import numpy as np\n",
    "import tensorflow as tf\n",
    "from sklearn.metrics import accuracy_score\n",
    "from tensorflow import keras\n",
    "from PIL import Image\n",
    "import cv2\n",
    "import matplotlib.pyplot as plt\n",
    "from tensorflow.keras.applications import DenseNet201\n",
    "import matplotlib.colors as colors\n",
    "# import tensorflow_addons as tfa\n",
    "# from tensorflow_addons.layers import CRF\n",
    "import os.path \n",
    "# from keras_contrib.layers import CRF\n",
    "# from tf_keras_contrib.layers import CRF\n"
   ]
  },
  {
   "cell_type": "code",
   "execution_count": 5,
   "metadata": {},
   "outputs": [],
   "source": [
    "txt_file = 'sc/train20.txt'\n",
    "# txt_file = 'dataset/speedtxt/train.txt'\n",
    "f = open(txt_file)\n",
    "imgspaths = []\n",
    "speeds = []\n",
    "time_train = []\n",
    "for line in f.readlines():\n",
    "    filename = line.split(',')[0]\n",
    "    time = filename.split('.')[0]\n",
    "    speed = line.split(',')[1]\n",
    "    if speed[-1] == '\\n':\n",
    "        speed = speed[:-1]\n",
    "        imgspaths.append(filename)\n",
    "        time_train.append(int(time))\n",
    "        speeds.append(int(speed))\n",
    "    \n",
    "y_train = np.array(speeds)\n",
    "time_train = np.array(time_train)\n"
   ]
  },
  {
   "cell_type": "code",
   "execution_count": 6,
   "metadata": {},
   "outputs": [],
   "source": [
    "max_unit = np.max(speeds)"
   ]
  },
  {
   "cell_type": "code",
   "execution_count": 7,
   "metadata": {},
   "outputs": [],
   "source": [
    "txt_file = 'sc/test20.txt'\n",
    "# txt_file = 'dataset/speedtxt/test.txt'\n",
    "f = open(txt_file)\n",
    "imgspath2 = []\n",
    "speeds = []\n",
    "time_test = []\n",
    "for line in f.readlines():\n",
    "    filename = line.split(',')[0]\n",
    "    time = filename.split('.')[0]\n",
    "    speed = line.split(',')[1]\n",
    "    if speed[-1] == '\\n':\n",
    "        speed = speed[:-1]\n",
    "        imgspath2.append(filename)\n",
    "        time_test.append(int(time))\n",
    "        speeds.append(int(speed))\n",
    "y_test = np.array(speeds)\n",
    "time_test = np.array(time_test)\n",
    "        "
   ]
  },
  {
   "cell_type": "code",
   "execution_count": 8,
   "metadata": {},
   "outputs": [],
   "source": [
    "# imgspaths = ['1565751556792.jpg','1565751556904.jpg','1565751556968.jpg','1565751556968.jpg','1565751556968.jpg','1565751556968.jpg','1565751556968.jpg','1565751556968.jpg','1565751556968.jpg','1565751556968.jpg','1565751556968.jpg','1565751556968.jpg']\n",
    "# imgspaths = ['1565751556792.jpg','1565751556904.jpg','1565751562024.jpg']\n",
    "# y_train = [[53],[54],[55]]\n",
    "x_train = []\n",
    "for imgspath in imgspaths:\n",
    "    path1 = 'dataset/train/'+imgspath\n",
    "    path2 = 'dataset/test/'+imgspath\n",
    "    path3 = 'dataset/val/'+imgspath\n",
    "    path4 = '../Model-Training2/dataset/train/'+imgspath\n",
    "    path5 = '../Model-Training2/dataset/test/'+imgspath\n",
    "    path6 = '../Model-Training2/dataset/val/'+imgspath\n",
    "    if os.path.exists(path1):\n",
    "        img = np.array(Image.open(path1))\n",
    "    elif os.path.exists(path2):\n",
    "        img = np.array(Image.open(path2))\n",
    "    elif os.path.exists(path3):\n",
    "        img = np.array(Image.open(path3))\n",
    "    elif os.path.exists(path4):\n",
    "        img = np.array(Image.open(path4))\n",
    "    elif os.path.exists(path5):\n",
    "        img = np.array(Image.open(path5))\n",
    "    else:\n",
    "        img = np.array(Image.open(path6))\n",
    "        \n",
    "    img = cv2.resize(img,(32,32))\n",
    "    x_train.append(img)\n",
    "x_train = np.array(x_train)"
   ]
  },
  {
   "cell_type": "code",
   "execution_count": 9,
   "metadata": {},
   "outputs": [],
   "source": [
    "# imgspath2 = ['1565752827880.jpg']\n",
    "# y_test = [[55]]\n",
    "x_test = []\n",
    "for imgspath in imgspath2:\n",
    "    path1 = 'dataset/train/'+imgspath\n",
    "    path2 = 'dataset/test/'+imgspath\n",
    "    path3 = 'dataset/val/'+imgspath\n",
    "    path4 = '../Model-Training2/dataset/train/'+imgspath\n",
    "    path5 = '../Model-Training2/dataset/test/'+imgspath\n",
    "    path6 = '../Model-Training2/dataset/val/'+imgspath\n",
    "    if os.path.exists(path1):\n",
    "        img = np.array(Image.open(path1))\n",
    "    elif os.path.exists(path2):\n",
    "        img = np.array(Image.open(path2))\n",
    "    elif os.path.exists(path3):\n",
    "        img = np.array(Image.open(path3))\n",
    "    elif os.path.exists(path4):\n",
    "        img = np.array(Image.open(path4))\n",
    "    elif os.path.exists(path5):\n",
    "        img = np.array(Image.open(path5))\n",
    "    else:\n",
    "        img = np.array(Image.open(path6))\n",
    "        \n",
    "    img = cv2.resize(img,(32,32))\n",
    "    x_test.append(img)\n",
    "x_test = np.array(x_test)"
   ]
  },
  {
   "cell_type": "code",
   "execution_count": 10,
   "metadata": {},
   "outputs": [],
   "source": [
    "y_train = keras.utils.to_categorical(y_train)\n",
    "y_test = keras.utils.to_categorical(y_test)"
   ]
  },
  {
   "cell_type": "code",
   "execution_count": 11,
   "metadata": {},
   "outputs": [],
   "source": [
    "time_train = np.reshape(time_train,(time_train.shape[0],1,1))\n",
    "time_test = np.reshape(time_test,(time_test.shape[0],1,1))"
   ]
  },
  {
   "cell_type": "code",
   "execution_count": 12,
   "metadata": {
    "scrolled": true
   },
   "outputs": [
    {
     "name": "stdout",
     "output_type": "stream",
     "text": [
      "(20712, 32, 32, 3)   (20712, 100)\n",
      "(5178, 32, 32, 3)   (5178, 100)\n"
     ]
    }
   ],
   "source": [
    "print(x_train.shape, ' ', y_train.shape)\n",
    "print(x_test.shape, ' ', y_test.shape)"
   ]
  },
  {
   "cell_type": "code",
   "execution_count": 13,
   "metadata": {},
   "outputs": [],
   "source": [
    "validation_set = ([x_test, time_test], y_test)"
   ]
  },
  {
   "cell_type": "markdown",
   "metadata": {},
   "source": [
    "## 2. Model"
   ]
  },
  {
   "cell_type": "code",
   "execution_count": 14,
   "metadata": {},
   "outputs": [],
   "source": [
    "from tensorflow.keras import layers\n",
    "model = keras.Sequential()"
   ]
  },
  {
   "cell_type": "code",
   "execution_count": 15,
   "metadata": {},
   "outputs": [],
   "source": [
    "x_shape = x_train.shape\n",
    "cnet2 = DenseNet201(\n",
    "    input_shape=(x_shape[1], x_shape[2], x_shape[3]),\n",
    "    weights='imagenet',\n",
    "    include_top=False\n",
    ")\n",
    "cnet2.trainable = True\n",
    "img_input = layers.Input(shape=(x_shape[1], x_shape[2], x_shape[3]))\n",
    "base_model = cnet2(img_input)\n",
    "\n",
    "# pool = layers.GlobalAveragePooling2D()(final_layer)\n",
    "flat = layers.Flatten()(base_model)\n",
    "dense1 = layers.Dense(64)(flat)"
   ]
  },
  {
   "cell_type": "code",
   "execution_count": 16,
   "metadata": {
    "scrolled": true
   },
   "outputs": [
    {
     "name": "stdout",
     "output_type": "stream",
     "text": [
      "Model: \"functional_1\"\n",
      "_________________________________________________________________\n",
      "Layer (type)                 Output Shape              Param #   \n",
      "=================================================================\n",
      "input_2 (InputLayer)         [(None, 32, 32, 3)]       0         \n",
      "_________________________________________________________________\n",
      "densenet201 (Functional)     (None, 1, 1, 1920)        18321984  \n",
      "_________________________________________________________________\n",
      "flatten (Flatten)            (None, 1920)              0         \n",
      "_________________________________________________________________\n",
      "dense (Dense)                (None, 64)                122944    \n",
      "_________________________________________________________________\n",
      "dense_1 (Dense)              (None, 100)               6500      \n",
      "=================================================================\n",
      "Total params: 18,451,428\n",
      "Trainable params: 18,222,372\n",
      "Non-trainable params: 229,056\n",
      "_________________________________________________________________\n"
     ]
    }
   ],
   "source": [
    "outt = layers.Dense(max_unit+1,activation='softmax')(dense1)\n",
    "model = keras.Model(inputs=img_input, outputs=outt)\n",
    "model.compile(optimizer=keras.optimizers.Adam(),\n",
    "             loss=keras.losses.CategoricalCrossentropy(),\n",
    "             metrics=['accuracy'])\n",
    "model.summary()"
   ]
  },
  {
   "cell_type": "code",
   "execution_count": 17,
   "metadata": {
    "scrolled": false
   },
   "outputs": [
    {
     "name": "stdout",
     "output_type": "stream",
     "text": [
      "Epoch 1/200\n",
      "324/324 [==============================] - 264s 814ms/step - loss: 2.4099 - accuracy: 0.2482 - val_loss: 5.9955 - val_accuracy: 0.0593\n",
      "Epoch 2/200\n",
      "324/324 [==============================] - 277s 855ms/step - loss: 1.9719 - accuracy: 0.3443 - val_loss: 2.8897 - val_accuracy: 0.1966\n",
      "Epoch 3/200\n",
      "324/324 [==============================] - 278s 857ms/step - loss: 1.5949 - accuracy: 0.4396 - val_loss: 1.7074 - val_accuracy: 0.4208\n",
      "Epoch 4/200\n",
      "324/324 [==============================] - 263s 813ms/step - loss: 1.2922 - accuracy: 0.5268 - val_loss: 1.8156 - val_accuracy: 0.4206\n",
      "Epoch 5/200\n",
      "324/324 [==============================] - 262s 809ms/step - loss: 1.1182 - accuracy: 0.5863 - val_loss: 2.0898 - val_accuracy: 0.3712\n",
      "Epoch 6/200\n",
      "324/324 [==============================] - 261s 807ms/step - loss: 1.0131 - accuracy: 0.6212 - val_loss: 2.1811 - val_accuracy: 0.3992\n",
      "Epoch 7/200\n",
      "324/324 [==============================] - 264s 815ms/step - loss: 0.9005 - accuracy: 0.6591 - val_loss: 2.2690 - val_accuracy: 0.3436\n",
      "Epoch 8/200\n",
      "324/324 [==============================] - 261s 806ms/step - loss: 0.8319 - accuracy: 0.6843 - val_loss: 1.3979 - val_accuracy: 0.5492\n",
      "Epoch 9/200\n",
      "324/324 [==============================] - 267s 824ms/step - loss: 0.7766 - accuracy: 0.7046 - val_loss: 2.6709 - val_accuracy: 0.3258\n",
      "Epoch 10/200\n",
      "324/324 [==============================] - 267s 826ms/step - loss: 0.7416 - accuracy: 0.7186 - val_loss: 0.9732 - val_accuracy: 0.6512\n",
      "Epoch 11/200\n",
      "324/324 [==============================] - 266s 822ms/step - loss: 0.6905 - accuracy: 0.7368 - val_loss: 2.3699 - val_accuracy: 0.4038\n",
      "Epoch 12/200\n",
      "324/324 [==============================] - 265s 817ms/step - loss: 0.6515 - accuracy: 0.7554 - val_loss: 1.4965 - val_accuracy: 0.5365\n",
      "Epoch 13/200\n",
      "324/324 [==============================] - 269s 830ms/step - loss: 0.6113 - accuracy: 0.7710 - val_loss: 2.1489 - val_accuracy: 0.4245\n",
      "Epoch 14/200\n",
      "324/324 [==============================] - 266s 820ms/step - loss: 0.5898 - accuracy: 0.7738 - val_loss: 1.3682 - val_accuracy: 0.5606\n",
      "Epoch 15/200\n",
      "324/324 [==============================] - 271s 836ms/step - loss: 0.5562 - accuracy: 0.7918 - val_loss: 3.5837 - val_accuracy: 0.3204\n",
      "Epoch 16/200\n",
      "324/324 [==============================] - 270s 835ms/step - loss: 0.5197 - accuracy: 0.8043 - val_loss: 1.8959 - val_accuracy: 0.4886\n",
      "Epoch 17/200\n",
      "324/324 [==============================] - 270s 832ms/step - loss: 0.5080 - accuracy: 0.8101 - val_loss: 1.1934 - val_accuracy: 0.6207\n",
      "Epoch 18/200\n",
      "324/324 [==============================] - 272s 841ms/step - loss: 0.4790 - accuracy: 0.8182 - val_loss: 1.8227 - val_accuracy: 0.4930\n",
      "Epoch 19/200\n",
      "324/324 [==============================] - 272s 840ms/step - loss: 0.4553 - accuracy: 0.8295 - val_loss: 2.9747 - val_accuracy: 0.3586\n",
      "Epoch 20/200\n",
      "324/324 [==============================] - 273s 842ms/step - loss: 0.4462 - accuracy: 0.8313 - val_loss: 1.0801 - val_accuracy: 0.6377\n",
      "Epoch 21/200\n",
      "324/324 [==============================] - 273s 842ms/step - loss: 0.4163 - accuracy: 0.8443 - val_loss: 1.2261 - val_accuracy: 0.6251\n",
      "Epoch 22/200\n",
      "324/324 [==============================] - 270s 834ms/step - loss: 0.4137 - accuracy: 0.8436 - val_loss: 1.3687 - val_accuracy: 0.6213\n",
      "Epoch 23/200\n",
      "324/324 [==============================] - 268s 826ms/step - loss: 0.3862 - accuracy: 0.8551 - val_loss: 1.7125 - val_accuracy: 0.5541\n",
      "Epoch 24/200\n",
      "324/324 [==============================] - 268s 826ms/step - loss: 0.3744 - accuracy: 0.8606 - val_loss: 1.8682 - val_accuracy: 0.5216\n",
      "Epoch 25/200\n",
      "324/324 [==============================] - 269s 829ms/step - loss: 0.3548 - accuracy: 0.8693 - val_loss: 1.9886 - val_accuracy: 0.5147\n",
      "Epoch 26/200\n",
      "324/324 [==============================] - 265s 818ms/step - loss: 0.3398 - accuracy: 0.8717 - val_loss: 2.2298 - val_accuracy: 0.4670\n",
      "Epoch 27/200\n",
      "324/324 [==============================] - 268s 826ms/step - loss: 0.3328 - accuracy: 0.8761 - val_loss: 3.6529 - val_accuracy: 0.3289\n",
      "Epoch 28/200\n",
      "324/324 [==============================] - 272s 839ms/step - loss: 0.3276 - accuracy: 0.8803 - val_loss: 2.2006 - val_accuracy: 0.5062\n",
      "Epoch 29/200\n",
      "324/324 [==============================] - 265s 816ms/step - loss: 0.3015 - accuracy: 0.8885 - val_loss: 2.8626 - val_accuracy: 0.4579\n",
      "Epoch 30/200\n",
      "324/324 [==============================] - 270s 834ms/step - loss: 0.2899 - accuracy: 0.8936 - val_loss: 1.3793 - val_accuracy: 0.6271\n",
      "Epoch 31/200\n",
      "324/324 [==============================] - 272s 840ms/step - loss: 0.2752 - accuracy: 0.8979 - val_loss: 1.4544 - val_accuracy: 0.6269\n",
      "Epoch 32/200\n",
      "324/324 [==============================] - 268s 828ms/step - loss: 0.2696 - accuracy: 0.9015 - val_loss: 2.2862 - val_accuracy: 0.5151\n",
      "Epoch 33/200\n",
      "324/324 [==============================] - 267s 825ms/step - loss: 0.2739 - accuracy: 0.8996 - val_loss: 1.0702 - val_accuracy: 0.6910\n",
      "Epoch 34/200\n",
      "324/324 [==============================] - 270s 833ms/step - loss: 0.2598 - accuracy: 0.9071 - val_loss: 1.4265 - val_accuracy: 0.6398\n",
      "Epoch 35/200\n",
      "324/324 [==============================] - 267s 823ms/step - loss: 0.2422 - accuracy: 0.9124 - val_loss: 2.7702 - val_accuracy: 0.4343\n",
      "Epoch 36/200\n",
      "324/324 [==============================] - 269s 830ms/step - loss: 0.2373 - accuracy: 0.9147 - val_loss: 2.6873 - val_accuracy: 0.4535\n",
      "Epoch 37/200\n",
      "324/324 [==============================] - 268s 827ms/step - loss: 0.2376 - accuracy: 0.9131 - val_loss: 1.0454 - val_accuracy: 0.7194\n",
      "Epoch 38/200\n",
      "324/324 [==============================] - 272s 839ms/step - loss: 0.2240 - accuracy: 0.9183 - val_loss: 0.9983 - val_accuracy: 0.7350\n",
      "Epoch 39/200\n",
      "324/324 [==============================] - 271s 836ms/step - loss: 0.2193 - accuracy: 0.9222 - val_loss: 1.8483 - val_accuracy: 0.5566\n",
      "Epoch 40/200\n",
      "324/324 [==============================] - 267s 825ms/step - loss: 0.2064 - accuracy: 0.9273 - val_loss: 2.4709 - val_accuracy: 0.5073\n",
      "Epoch 41/200\n",
      "324/324 [==============================] - 266s 821ms/step - loss: 0.2137 - accuracy: 0.9253 - val_loss: 1.1008 - val_accuracy: 0.7119\n",
      "Epoch 42/200\n",
      "324/324 [==============================] - 273s 843ms/step - loss: 0.1914 - accuracy: 0.9325 - val_loss: 1.6350 - val_accuracy: 0.6230\n",
      "Epoch 43/200\n",
      "324/324 [==============================] - 274s 846ms/step - loss: 0.2020 - accuracy: 0.9286 - val_loss: 1.2837 - val_accuracy: 0.6893\n",
      "Epoch 44/200\n",
      "324/324 [==============================] - 386s 1s/step - loss: 0.1856 - accuracy: 0.9339 - val_loss: 1.7872 - val_accuracy: 0.6074\n",
      "Epoch 45/200\n",
      "324/324 [==============================] - 387s 1s/step - loss: 0.1844 - accuracy: 0.9338 - val_loss: 1.1835 - val_accuracy: 0.6976\n",
      "Epoch 46/200\n",
      "324/324 [==============================] - 276s 851ms/step - loss: 0.1811 - accuracy: 0.9362 - val_loss: 1.7994 - val_accuracy: 0.6041\n",
      "Epoch 47/200\n",
      "324/324 [==============================] - 284s 876ms/step - loss: 0.1659 - accuracy: 0.9424 - val_loss: 2.4393 - val_accuracy: 0.5220\n",
      "Epoch 48/200\n",
      "324/324 [==============================] - 278s 859ms/step - loss: 0.1586 - accuracy: 0.9441 - val_loss: 1.8758 - val_accuracy: 0.5912\n",
      "Epoch 49/200\n",
      "324/324 [==============================] - 156s 481ms/step - loss: 0.1610 - accuracy: 0.9434 - val_loss: 1.5529 - val_accuracy: 0.6466\n",
      "Epoch 50/200\n",
      "324/324 [==============================] - 144s 443ms/step - loss: 0.1599 - accuracy: 0.9447 - val_loss: 0.9467 - val_accuracy: 0.7594\n",
      "Epoch 51/200\n",
      "324/324 [==============================] - 144s 444ms/step - loss: 0.1550 - accuracy: 0.9459 - val_loss: 2.2787 - val_accuracy: 0.5336\n",
      "Epoch 52/200\n",
      "324/324 [==============================] - 145s 448ms/step - loss: 0.1525 - accuracy: 0.9460 - val_loss: 1.3506 - val_accuracy: 0.6900\n",
      "Epoch 53/200\n",
      "324/324 [==============================] - 147s 455ms/step - loss: 0.1426 - accuracy: 0.9507 - val_loss: 2.3669 - val_accuracy: 0.5100\n",
      "Epoch 54/200\n",
      "324/324 [==============================] - 144s 445ms/step - loss: 0.1399 - accuracy: 0.9514 - val_loss: 1.3189 - val_accuracy: 0.6920\n",
      "Epoch 55/200\n",
      "324/324 [==============================] - 143s 440ms/step - loss: 0.1523 - accuracy: 0.9480 - val_loss: 3.8514 - val_accuracy: 0.3799\n",
      "Epoch 56/200\n"
     ]
    },
    {
     "name": "stdout",
     "output_type": "stream",
     "text": [
      "324/324 [==============================] - 147s 453ms/step - loss: 0.1468 - accuracy: 0.9490 - val_loss: 5.1825 - val_accuracy: 0.3395\n",
      "Epoch 57/200\n",
      "324/324 [==============================] - 148s 456ms/step - loss: 0.1355 - accuracy: 0.9545 - val_loss: 2.4577 - val_accuracy: 0.5415\n",
      "Epoch 58/200\n",
      "324/324 [==============================] - 142s 439ms/step - loss: 0.1295 - accuracy: 0.9548 - val_loss: 1.6391 - val_accuracy: 0.6543\n",
      "Epoch 59/200\n",
      "324/324 [==============================] - 143s 442ms/step - loss: 0.1279 - accuracy: 0.9567 - val_loss: 1.4414 - val_accuracy: 0.6802\n",
      "Epoch 60/200\n",
      "324/324 [==============================] - 142s 437ms/step - loss: 0.1256 - accuracy: 0.9563 - val_loss: 1.0543 - val_accuracy: 0.7499\n",
      "Epoch 61/200\n",
      "324/324 [==============================] - 141s 434ms/step - loss: 0.1277 - accuracy: 0.9593 - val_loss: 1.0981 - val_accuracy: 0.7381\n",
      "Epoch 62/200\n",
      "324/324 [==============================] - 148s 457ms/step - loss: 0.1145 - accuracy: 0.9626 - val_loss: 1.7127 - val_accuracy: 0.6126\n",
      "Epoch 63/200\n",
      "324/324 [==============================] - 145s 447ms/step - loss: 0.1229 - accuracy: 0.9569 - val_loss: 1.0939 - val_accuracy: 0.7484\n",
      "Epoch 64/200\n",
      "324/324 [==============================] - 147s 455ms/step - loss: 0.1179 - accuracy: 0.9599 - val_loss: 1.1030 - val_accuracy: 0.7491\n",
      "Epoch 65/200\n",
      "324/324 [==============================] - 150s 463ms/step - loss: 0.1162 - accuracy: 0.9612 - val_loss: 1.1041 - val_accuracy: 0.7437\n",
      "Epoch 66/200\n",
      "324/324 [==============================] - 148s 455ms/step - loss: 0.1073 - accuracy: 0.9647 - val_loss: 1.4429 - val_accuracy: 0.6686\n",
      "Epoch 67/200\n",
      "324/324 [==============================] - 150s 464ms/step - loss: 0.0965 - accuracy: 0.9665 - val_loss: 1.6357 - val_accuracy: 0.6522\n",
      "Epoch 68/200\n",
      "324/324 [==============================] - 147s 455ms/step - loss: 0.1062 - accuracy: 0.9647 - val_loss: 1.7440 - val_accuracy: 0.6263\n",
      "Epoch 69/200\n",
      "324/324 [==============================] - 147s 454ms/step - loss: 0.1214 - accuracy: 0.9607 - val_loss: 2.5695 - val_accuracy: 0.5224\n",
      "Epoch 70/200\n",
      "324/324 [==============================] - 149s 460ms/step - loss: 0.1112 - accuracy: 0.9620 - val_loss: 1.2064 - val_accuracy: 0.7333\n",
      "Epoch 71/200\n",
      "324/324 [==============================] - 153s 472ms/step - loss: 0.1120 - accuracy: 0.9628 - val_loss: 1.7019 - val_accuracy: 0.6522\n",
      "Epoch 72/200\n",
      "324/324 [==============================] - 150s 462ms/step - loss: 0.1120 - accuracy: 0.9630 - val_loss: 1.3843 - val_accuracy: 0.7134\n",
      "Epoch 73/200\n",
      "324/324 [==============================] - 151s 466ms/step - loss: 0.1002 - accuracy: 0.9658 - val_loss: 2.5428 - val_accuracy: 0.5357\n",
      "Epoch 74/200\n",
      "324/324 [==============================] - 150s 462ms/step - loss: 0.0817 - accuracy: 0.9724 - val_loss: 2.1486 - val_accuracy: 0.6143\n",
      "Epoch 75/200\n",
      "324/324 [==============================] - 151s 467ms/step - loss: 0.0999 - accuracy: 0.9667 - val_loss: 1.4122 - val_accuracy: 0.7014\n",
      "Epoch 76/200\n",
      "324/324 [==============================] - 151s 466ms/step - loss: 0.0989 - accuracy: 0.9688 - val_loss: 1.3674 - val_accuracy: 0.7090\n",
      "Epoch 77/200\n",
      "324/324 [==============================] - 144s 443ms/step - loss: 0.0897 - accuracy: 0.9696 - val_loss: 1.8501 - val_accuracy: 0.6524\n",
      "Epoch 78/200\n",
      "324/324 [==============================] - 144s 444ms/step - loss: 0.0942 - accuracy: 0.9681 - val_loss: 1.7211 - val_accuracy: 0.6549\n",
      "Epoch 79/200\n",
      "324/324 [==============================] - 144s 446ms/step - loss: 0.0949 - accuracy: 0.9693 - val_loss: 1.3801 - val_accuracy: 0.7132\n",
      "Epoch 80/200\n",
      "324/324 [==============================] - 150s 462ms/step - loss: 0.0906 - accuracy: 0.9707 - val_loss: 1.3225 - val_accuracy: 0.7310\n",
      "Epoch 81/200\n",
      "324/324 [==============================] - 147s 454ms/step - loss: 0.1011 - accuracy: 0.9687 - val_loss: 1.2768 - val_accuracy: 0.7316\n",
      "Epoch 82/200\n",
      "324/324 [==============================] - 145s 448ms/step - loss: 0.0894 - accuracy: 0.9718 - val_loss: 1.2015 - val_accuracy: 0.7478\n",
      "Epoch 83/200\n",
      "324/324 [==============================] - 147s 454ms/step - loss: 0.0863 - accuracy: 0.9717 - val_loss: 2.3370 - val_accuracy: 0.5842\n",
      "Epoch 84/200\n",
      "324/324 [==============================] - 154s 474ms/step - loss: 0.0861 - accuracy: 0.9713 - val_loss: 1.7192 - val_accuracy: 0.6607\n",
      "Epoch 85/200\n",
      "324/324 [==============================] - 153s 471ms/step - loss: 0.0823 - accuracy: 0.9720 - val_loss: 2.2014 - val_accuracy: 0.5921\n",
      "Epoch 86/200\n",
      "324/324 [==============================] - 151s 467ms/step - loss: 0.0796 - accuracy: 0.9739 - val_loss: 1.5558 - val_accuracy: 0.6819\n",
      "Epoch 87/200\n",
      "324/324 [==============================] - 222s 686ms/step - loss: 0.0854 - accuracy: 0.9727 - val_loss: 1.7113 - val_accuracy: 0.6699\n",
      "Epoch 88/200\n",
      "324/324 [==============================] - 309s 955ms/step - loss: 0.0868 - accuracy: 0.9732 - val_loss: 1.1104 - val_accuracy: 0.7638\n",
      "Epoch 89/200\n",
      "324/324 [==============================] - 250s 773ms/step - loss: 0.0766 - accuracy: 0.9741 - val_loss: 1.8586 - val_accuracy: 0.6371\n",
      "Epoch 90/200\n",
      "324/324 [==============================] - 1721s 5s/step - loss: 0.0820 - accuracy: 0.9746 - val_loss: 1.6865 - val_accuracy: 0.6713\n",
      "Epoch 91/200\n",
      "324/324 [==============================] - 146s 449ms/step - loss: 0.0838 - accuracy: 0.9740 - val_loss: 1.1932 - val_accuracy: 0.7426\n",
      "Epoch 92/200\n",
      "324/324 [==============================] - 146s 452ms/step - loss: 0.0829 - accuracy: 0.9719 - val_loss: 2.1391 - val_accuracy: 0.6033\n",
      "Epoch 93/200\n",
      "324/324 [==============================] - 143s 443ms/step - loss: 0.0784 - accuracy: 0.9755 - val_loss: 6.2193 - val_accuracy: 0.3413\n",
      "Epoch 94/200\n",
      "324/324 [==============================] - 145s 447ms/step - loss: 0.0772 - accuracy: 0.9764 - val_loss: 1.0225 - val_accuracy: 0.7928\n",
      "Epoch 95/200\n",
      "324/324 [==============================] - 142s 439ms/step - loss: 0.0546 - accuracy: 0.9826 - val_loss: 1.1980 - val_accuracy: 0.7524\n",
      "Epoch 96/200\n",
      "324/324 [==============================] - 593s 2s/step - loss: 0.0775 - accuracy: 0.9763 - val_loss: 2.9059 - val_accuracy: 0.5622\n",
      "Epoch 97/200\n",
      "324/324 [==============================] - 328s 1s/step - loss: 0.0772 - accuracy: 0.9753 - val_loss: 2.0959 - val_accuracy: 0.6205\n",
      "Epoch 98/200\n",
      "324/324 [==============================] - 144s 446ms/step - loss: 0.0709 - accuracy: 0.9771 - val_loss: 1.9013 - val_accuracy: 0.6387\n",
      "Epoch 99/200\n",
      "324/324 [==============================] - 141s 436ms/step - loss: 0.0680 - accuracy: 0.9783 - val_loss: 2.5757 - val_accuracy: 0.5782\n",
      "Epoch 100/200\n",
      "324/324 [==============================] - 143s 442ms/step - loss: 0.0719 - accuracy: 0.9777 - val_loss: 1.3956 - val_accuracy: 0.7275\n",
      "Epoch 101/200\n",
      "324/324 [==============================] - 140s 433ms/step - loss: 0.0758 - accuracy: 0.9746 - val_loss: 3.2233 - val_accuracy: 0.5044\n",
      "Epoch 102/200\n",
      "324/324 [==============================] - 140s 433ms/step - loss: 0.0701 - accuracy: 0.9767 - val_loss: 1.4437 - val_accuracy: 0.7194\n",
      "Epoch 103/200\n",
      "324/324 [==============================] - 139s 430ms/step - loss: 0.0628 - accuracy: 0.9804 - val_loss: 1.3048 - val_accuracy: 0.7341\n",
      "Epoch 104/200\n",
      "324/324 [==============================] - 140s 431ms/step - loss: 0.0718 - accuracy: 0.9772 - val_loss: 1.5383 - val_accuracy: 0.7109\n",
      "Epoch 105/200\n",
      "324/324 [==============================] - 140s 432ms/step - loss: 0.0719 - accuracy: 0.9775 - val_loss: 2.2433 - val_accuracy: 0.6230\n",
      "Epoch 106/200\n",
      "324/324 [==============================] - 142s 438ms/step - loss: 0.0610 - accuracy: 0.9816 - val_loss: 2.2494 - val_accuracy: 0.6103\n",
      "Epoch 107/200\n",
      "324/324 [==============================] - 143s 441ms/step - loss: 0.0589 - accuracy: 0.9814 - val_loss: 3.2587 - val_accuracy: 0.4917\n",
      "Epoch 108/200\n",
      "324/324 [==============================] - 140s 432ms/step - loss: 0.0625 - accuracy: 0.9804 - val_loss: 1.7049 - val_accuracy: 0.6920\n",
      "Epoch 109/200\n",
      "324/324 [==============================] - 141s 436ms/step - loss: 0.0725 - accuracy: 0.9782 - val_loss: 2.0431 - val_accuracy: 0.6273\n",
      "Epoch 110/200\n",
      "324/324 [==============================] - 140s 431ms/step - loss: 0.0664 - accuracy: 0.9803 - val_loss: 1.3790 - val_accuracy: 0.7310\n",
      "Epoch 111/200\n"
     ]
    },
    {
     "name": "stdout",
     "output_type": "stream",
     "text": [
      "324/324 [==============================] - 139s 430ms/step - loss: 0.0576 - accuracy: 0.9815 - val_loss: 1.9047 - val_accuracy: 0.6474\n",
      "Epoch 112/200\n",
      "324/324 [==============================] - 141s 435ms/step - loss: 0.0546 - accuracy: 0.9839 - val_loss: 1.3341 - val_accuracy: 0.7431\n",
      "Epoch 113/200\n",
      "324/324 [==============================] - 142s 440ms/step - loss: 0.0660 - accuracy: 0.9797 - val_loss: 1.6476 - val_accuracy: 0.6873\n",
      "Epoch 114/200\n",
      "324/324 [==============================] - 142s 440ms/step - loss: 0.0620 - accuracy: 0.9817 - val_loss: 1.5980 - val_accuracy: 0.7144\n",
      "Epoch 115/200\n",
      "324/324 [==============================] - 141s 436ms/step - loss: 0.0558 - accuracy: 0.9828 - val_loss: 2.3951 - val_accuracy: 0.6058\n",
      "Epoch 116/200\n",
      "324/324 [==============================] - 143s 440ms/step - loss: 0.0683 - accuracy: 0.9780 - val_loss: 1.8241 - val_accuracy: 0.6898\n",
      "Epoch 117/200\n",
      "324/324 [==============================] - 142s 439ms/step - loss: 0.0714 - accuracy: 0.9773 - val_loss: 1.2828 - val_accuracy: 0.7486\n",
      "Epoch 118/200\n",
      "324/324 [==============================] - 154s 476ms/step - loss: 0.0523 - accuracy: 0.9834 - val_loss: 1.4902 - val_accuracy: 0.7250\n",
      "Epoch 119/200\n",
      "324/324 [==============================] - 149s 459ms/step - loss: 0.0511 - accuracy: 0.9845 - val_loss: 1.2999 - val_accuracy: 0.7588\n",
      "Epoch 120/200\n",
      "324/324 [==============================] - 152s 468ms/step - loss: 0.0524 - accuracy: 0.9841 - val_loss: 1.5682 - val_accuracy: 0.6999\n",
      "Epoch 121/200\n",
      "324/324 [==============================] - 147s 454ms/step - loss: 0.0723 - accuracy: 0.9765 - val_loss: 2.4862 - val_accuracy: 0.5863\n",
      "Epoch 122/200\n",
      "324/324 [==============================] - 152s 469ms/step - loss: 0.0631 - accuracy: 0.9801 - val_loss: 1.7331 - val_accuracy: 0.6839\n",
      "Epoch 123/200\n",
      "324/324 [==============================] - 149s 458ms/step - loss: 0.0488 - accuracy: 0.9854 - val_loss: 2.1995 - val_accuracy: 0.6217\n",
      "Epoch 124/200\n",
      "324/324 [==============================] - 150s 463ms/step - loss: 0.0471 - accuracy: 0.9850 - val_loss: 2.1619 - val_accuracy: 0.6313\n",
      "Epoch 125/200\n",
      "324/324 [==============================] - 155s 479ms/step - loss: 0.0620 - accuracy: 0.9808 - val_loss: 2.4982 - val_accuracy: 0.5915\n",
      "Epoch 126/200\n",
      "324/324 [==============================] - 152s 468ms/step - loss: 0.0526 - accuracy: 0.9826 - val_loss: 2.0010 - val_accuracy: 0.6365\n",
      "Epoch 127/200\n",
      "324/324 [==============================] - 152s 470ms/step - loss: 0.0662 - accuracy: 0.9795 - val_loss: 1.3053 - val_accuracy: 0.7468\n",
      "Epoch 128/200\n",
      "324/324 [==============================] - 158s 488ms/step - loss: 0.0502 - accuracy: 0.9848 - val_loss: 1.2449 - val_accuracy: 0.7644\n",
      "Epoch 129/200\n",
      "324/324 [==============================] - 142s 440ms/step - loss: 0.0584 - accuracy: 0.9828 - val_loss: 1.4826 - val_accuracy: 0.7192\n",
      "Epoch 130/200\n",
      "324/324 [==============================] - 151s 467ms/step - loss: 0.0464 - accuracy: 0.9857 - val_loss: 1.4884 - val_accuracy: 0.7151\n",
      "Epoch 131/200\n",
      "324/324 [==============================] - 151s 466ms/step - loss: 0.0481 - accuracy: 0.9847 - val_loss: 2.1831 - val_accuracy: 0.6240\n",
      "Epoch 132/200\n",
      "324/324 [==============================] - 146s 451ms/step - loss: 0.0496 - accuracy: 0.9858 - val_loss: 2.3339 - val_accuracy: 0.6143\n",
      "Epoch 133/200\n",
      "324/324 [==============================] - 150s 463ms/step - loss: 0.0526 - accuracy: 0.9837 - val_loss: 3.0197 - val_accuracy: 0.5379\n",
      "Epoch 134/200\n",
      "324/324 [==============================] - 149s 461ms/step - loss: 0.0464 - accuracy: 0.9862 - val_loss: 1.9032 - val_accuracy: 0.6613\n",
      "Epoch 135/200\n",
      "324/324 [==============================] - 146s 450ms/step - loss: 0.0553 - accuracy: 0.9846 - val_loss: 1.8871 - val_accuracy: 0.6674\n",
      "Epoch 136/200\n",
      "324/324 [==============================] - 145s 447ms/step - loss: 0.0475 - accuracy: 0.9860 - val_loss: 1.4050 - val_accuracy: 0.7362\n",
      "Epoch 137/200\n",
      "324/324 [==============================] - 145s 447ms/step - loss: 0.0555 - accuracy: 0.9837 - val_loss: 3.3533 - val_accuracy: 0.5093\n",
      "Epoch 138/200\n",
      "324/324 [==============================] - 153s 471ms/step - loss: 0.0396 - accuracy: 0.9875 - val_loss: 1.5236 - val_accuracy: 0.7236\n",
      "Epoch 139/200\n",
      "324/324 [==============================] - 152s 470ms/step - loss: 0.0560 - accuracy: 0.9835 - val_loss: 1.9678 - val_accuracy: 0.6781\n",
      "Epoch 140/200\n",
      "324/324 [==============================] - 153s 473ms/step - loss: 0.0483 - accuracy: 0.9852 - val_loss: 1.5002 - val_accuracy: 0.7171\n",
      "Epoch 141/200\n",
      "324/324 [==============================] - 159s 492ms/step - loss: 0.0687 - accuracy: 0.9790 - val_loss: 2.4615 - val_accuracy: 0.5975\n",
      "Epoch 142/200\n",
      "324/324 [==============================] - 175s 541ms/step - loss: 0.0497 - accuracy: 0.9845 - val_loss: 1.3718 - val_accuracy: 0.7420\n",
      "Epoch 143/200\n",
      "324/324 [==============================] - 151s 466ms/step - loss: 0.0422 - accuracy: 0.9874 - val_loss: 1.6826 - val_accuracy: 0.6875\n",
      "Epoch 144/200\n",
      "324/324 [==============================] - 151s 467ms/step - loss: 0.0408 - accuracy: 0.9871 - val_loss: 1.2812 - val_accuracy: 0.7611\n",
      "Epoch 145/200\n",
      "324/324 [==============================] - 147s 452ms/step - loss: 0.0489 - accuracy: 0.9857 - val_loss: 2.1971 - val_accuracy: 0.6398\n",
      "Epoch 146/200\n",
      "324/324 [==============================] - 150s 464ms/step - loss: 0.0512 - accuracy: 0.9846 - val_loss: 2.0655 - val_accuracy: 0.6531\n",
      "Epoch 147/200\n",
      "324/324 [==============================] - 155s 479ms/step - loss: 0.0429 - accuracy: 0.9875 - val_loss: 1.4226 - val_accuracy: 0.7308\n",
      "Epoch 148/200\n",
      "324/324 [==============================] - 152s 470ms/step - loss: 0.0446 - accuracy: 0.9865 - val_loss: 2.0096 - val_accuracy: 0.6514\n",
      "Epoch 149/200\n",
      "324/324 [==============================] - 145s 448ms/step - loss: 0.0521 - accuracy: 0.9845 - val_loss: 1.5339 - val_accuracy: 0.7204\n",
      "Epoch 150/200\n",
      "324/324 [==============================] - 145s 448ms/step - loss: 0.0451 - accuracy: 0.9861 - val_loss: 2.6523 - val_accuracy: 0.5774\n",
      "Epoch 151/200\n",
      "324/324 [==============================] - 142s 437ms/step - loss: 0.0463 - accuracy: 0.9862 - val_loss: 1.3358 - val_accuracy: 0.7503\n",
      "Epoch 152/200\n",
      "324/324 [==============================] - 141s 436ms/step - loss: 0.0386 - accuracy: 0.9883 - val_loss: 1.4521 - val_accuracy: 0.7499\n",
      "Epoch 153/200\n",
      "324/324 [==============================] - 140s 432ms/step - loss: 0.0443 - accuracy: 0.9862 - val_loss: 1.6060 - val_accuracy: 0.7130\n",
      "Epoch 154/200\n",
      "324/324 [==============================] - 141s 435ms/step - loss: 0.0338 - accuracy: 0.9897 - val_loss: 1.3016 - val_accuracy: 0.7710\n",
      "Epoch 155/200\n",
      "324/324 [==============================] - 142s 437ms/step - loss: 0.0484 - accuracy: 0.9857 - val_loss: 3.0920 - val_accuracy: 0.5568\n",
      "Epoch 156/200\n",
      "324/324 [==============================] - 148s 457ms/step - loss: 0.0645 - accuracy: 0.9818 - val_loss: 1.2274 - val_accuracy: 0.7742\n",
      "Epoch 157/200\n",
      "324/324 [==============================] - 155s 479ms/step - loss: 0.0432 - accuracy: 0.9872 - val_loss: 1.5450 - val_accuracy: 0.7333\n",
      "Epoch 158/200\n",
      "324/324 [==============================] - 150s 463ms/step - loss: 0.0364 - accuracy: 0.9895 - val_loss: 1.2610 - val_accuracy: 0.7713\n",
      "Epoch 159/200\n",
      "324/324 [==============================] - 142s 440ms/step - loss: 0.0370 - accuracy: 0.9896 - val_loss: 1.5528 - val_accuracy: 0.7350\n",
      "Epoch 160/200\n",
      "324/324 [==============================] - 150s 464ms/step - loss: 0.0461 - accuracy: 0.9861 - val_loss: 2.2959 - val_accuracy: 0.6271\n",
      "Epoch 161/200\n",
      "324/324 [==============================] - 151s 465ms/step - loss: 0.0452 - accuracy: 0.9867 - val_loss: 3.2020 - val_accuracy: 0.5245\n",
      "Epoch 162/200\n",
      "324/324 [==============================] - 150s 462ms/step - loss: 0.0497 - accuracy: 0.9851 - val_loss: 2.5607 - val_accuracy: 0.5782\n",
      "Epoch 163/200\n",
      "324/324 [==============================] - 145s 447ms/step - loss: 0.0399 - accuracy: 0.9882 - val_loss: 2.3748 - val_accuracy: 0.6062\n",
      "Epoch 164/200\n",
      "324/324 [==============================] - 146s 452ms/step - loss: 0.0388 - accuracy: 0.9886 - val_loss: 2.3268 - val_accuracy: 0.6253\n",
      "Epoch 165/200\n",
      "324/324 [==============================] - 155s 480ms/step - loss: 0.0295 - accuracy: 0.9925 - val_loss: 1.9637 - val_accuracy: 0.6541\n",
      "Epoch 166/200\n"
     ]
    },
    {
     "name": "stdout",
     "output_type": "stream",
     "text": [
      "324/324 [==============================] - 151s 467ms/step - loss: 0.0508 - accuracy: 0.9858 - val_loss: 2.9979 - val_accuracy: 0.5554\n",
      "Epoch 167/200\n",
      "324/324 [==============================] - 142s 437ms/step - loss: 0.0603 - accuracy: 0.9819 - val_loss: 2.9416 - val_accuracy: 0.5620\n",
      "Epoch 168/200\n",
      "324/324 [==============================] - 151s 465ms/step - loss: 0.0324 - accuracy: 0.9900 - val_loss: 1.1947 - val_accuracy: 0.7822\n",
      "Epoch 169/200\n",
      "324/324 [==============================] - 147s 453ms/step - loss: 0.0271 - accuracy: 0.9915 - val_loss: 1.5682 - val_accuracy: 0.7244\n",
      "Epoch 170/200\n",
      "324/324 [==============================] - 150s 462ms/step - loss: 0.0442 - accuracy: 0.9863 - val_loss: 2.4106 - val_accuracy: 0.6159\n",
      "Epoch 171/200\n",
      "324/324 [==============================] - 148s 457ms/step - loss: 0.0479 - accuracy: 0.9860 - val_loss: 1.4097 - val_accuracy: 0.7445\n",
      "Epoch 172/200\n",
      "324/324 [==============================] - 144s 444ms/step - loss: 0.0373 - accuracy: 0.9887 - val_loss: 2.4309 - val_accuracy: 0.6192\n",
      "Epoch 173/200\n",
      "324/324 [==============================] - 140s 433ms/step - loss: 0.0372 - accuracy: 0.9895 - val_loss: 1.6160 - val_accuracy: 0.7115\n",
      "Epoch 174/200\n",
      "324/324 [==============================] - 141s 435ms/step - loss: 0.0393 - accuracy: 0.9891 - val_loss: 1.3347 - val_accuracy: 0.7634\n",
      "Epoch 175/200\n",
      "324/324 [==============================] - 138s 425ms/step - loss: 0.0411 - accuracy: 0.9881 - val_loss: 1.4402 - val_accuracy: 0.7364\n",
      "Epoch 176/200\n",
      "324/324 [==============================] - 141s 436ms/step - loss: 0.0428 - accuracy: 0.9864 - val_loss: 1.3735 - val_accuracy: 0.7441\n",
      "Epoch 177/200\n",
      "324/324 [==============================] - 139s 430ms/step - loss: 0.0390 - accuracy: 0.9888 - val_loss: 1.8325 - val_accuracy: 0.7039\n",
      "Epoch 178/200\n",
      "324/324 [==============================] - 141s 435ms/step - loss: 0.0332 - accuracy: 0.9902 - val_loss: 3.0385 - val_accuracy: 0.5508\n",
      "Epoch 179/200\n",
      "324/324 [==============================] - 140s 432ms/step - loss: 0.0493 - accuracy: 0.9857 - val_loss: 1.6660 - val_accuracy: 0.7134\n",
      "Epoch 180/200\n",
      "324/324 [==============================] - 140s 433ms/step - loss: 0.0371 - accuracy: 0.9888 - val_loss: 2.5960 - val_accuracy: 0.6025\n",
      "Epoch 181/200\n",
      "324/324 [==============================] - 141s 436ms/step - loss: 0.0369 - accuracy: 0.9882 - val_loss: 1.5708 - val_accuracy: 0.7445\n",
      "Epoch 182/200\n",
      "324/324 [==============================] - 141s 435ms/step - loss: 0.0431 - accuracy: 0.9870 - val_loss: 2.3608 - val_accuracy: 0.6192\n",
      "Epoch 183/200\n",
      "324/324 [==============================] - 142s 438ms/step - loss: 0.0316 - accuracy: 0.9907 - val_loss: 1.6126 - val_accuracy: 0.7167\n",
      "Epoch 184/200\n",
      "324/324 [==============================] - 143s 442ms/step - loss: 0.0393 - accuracy: 0.9889 - val_loss: 2.0117 - val_accuracy: 0.6593\n",
      "Epoch 185/200\n",
      "324/324 [==============================] - 141s 436ms/step - loss: 0.0355 - accuracy: 0.9892 - val_loss: 2.5652 - val_accuracy: 0.5958\n",
      "Epoch 186/200\n",
      "324/324 [==============================] - 142s 439ms/step - loss: 0.0480 - accuracy: 0.9851 - val_loss: 2.1575 - val_accuracy: 0.6418\n",
      "Epoch 187/200\n",
      "324/324 [==============================] - 141s 436ms/step - loss: 0.0304 - accuracy: 0.9891 - val_loss: 1.9696 - val_accuracy: 0.6949\n",
      "Epoch 188/200\n",
      "324/324 [==============================] - 141s 436ms/step - loss: 0.0350 - accuracy: 0.9901 - val_loss: 1.5131 - val_accuracy: 0.7447\n",
      "Epoch 189/200\n",
      "324/324 [==============================] - 142s 438ms/step - loss: 0.0349 - accuracy: 0.9902 - val_loss: 2.7745 - val_accuracy: 0.5801\n",
      "Epoch 190/200\n",
      "324/324 [==============================] - 143s 441ms/step - loss: 0.0365 - accuracy: 0.9894 - val_loss: 2.8573 - val_accuracy: 0.5732\n",
      "Epoch 191/200\n",
      "324/324 [==============================] - 141s 436ms/step - loss: 0.0467 - accuracy: 0.9868 - val_loss: 1.3160 - val_accuracy: 0.7785\n",
      "Epoch 192/200\n",
      "324/324 [==============================] - 142s 440ms/step - loss: 0.0302 - accuracy: 0.9912 - val_loss: 2.5083 - val_accuracy: 0.6025\n",
      "Epoch 193/200\n",
      "324/324 [==============================] - 145s 448ms/step - loss: 0.0287 - accuracy: 0.9912 - val_loss: 1.8277 - val_accuracy: 0.7142\n",
      "Epoch 194/200\n",
      "324/324 [==============================] - 144s 443ms/step - loss: 0.0451 - accuracy: 0.9871 - val_loss: 2.0278 - val_accuracy: 0.6781\n",
      "Epoch 195/200\n",
      "324/324 [==============================] - 144s 445ms/step - loss: 0.0404 - accuracy: 0.9889 - val_loss: 1.4249 - val_accuracy: 0.7410\n",
      "Epoch 196/200\n",
      "324/324 [==============================] - 144s 446ms/step - loss: 0.0326 - accuracy: 0.9899 - val_loss: 2.2975 - val_accuracy: 0.6338\n",
      "Epoch 197/200\n",
      "324/324 [==============================] - 144s 444ms/step - loss: 0.0320 - accuracy: 0.9902 - val_loss: 1.2025 - val_accuracy: 0.7879\n",
      "Epoch 198/200\n",
      "324/324 [==============================] - 143s 442ms/step - loss: 0.0351 - accuracy: 0.9891 - val_loss: 4.3239 - val_accuracy: 0.4652\n",
      "Epoch 199/200\n",
      "324/324 [==============================] - 143s 443ms/step - loss: 0.0327 - accuracy: 0.9906 - val_loss: 1.3743 - val_accuracy: 0.7626\n",
      "Epoch 200/200\n",
      "324/324 [==============================] - 143s 440ms/step - loss: 0.0429 - accuracy: 0.9879 - val_loss: 1.4980 - val_accuracy: 0.7543\n",
      "CPU times: user 2d 17h 53min 47s, sys: 11h 14min 59s, total: 3d 5h 8min 46s\n",
      "Wall time: 10h 34min 12s\n"
     ]
    }
   ],
   "source": [
    "%%time\n",
    "history2 = model.fit([x_train, time_train], y_train, batch_size=64,epochs=200, validation_data = validation_set)"
   ]
  },
  {
   "cell_type": "code",
   "execution_count": 18,
   "metadata": {},
   "outputs": [
    {
     "name": "stdout",
     "output_type": "stream",
     "text": [
      "162/162 [==============================] - 7s 42ms/step - loss: 1.4980 - accuracy: 0.7543\n"
     ]
    },
    {
     "data": {
      "text/plain": [
       "[1.4980367422103882, 0.7543452978134155]"
      ]
     },
     "execution_count": 18,
     "metadata": {},
     "output_type": "execute_result"
    }
   ],
   "source": [
    "model.evaluate(x=[x_test, time_test],y=y_test,verbose=1)"
   ]
  },
  {
   "cell_type": "code",
   "execution_count": 19,
   "metadata": {
    "scrolled": true
   },
   "outputs": [
    {
     "data": {
      "image/png": "[encoded data removed]",
      "text/plain": [
       "<Figure size 432x288 with 1 Axes>"
      ]
     },
     "metadata": {
      "needs_background": "light"
     },
     "output_type": "display_data"
    }
   ],
   "source": [
    "plt.plot(history2.history['accuracy'])\n",
    "plt.plot(history2.history['val_accuracy'])\n",
    "plt.legend(['training', 'validation'], loc='upper left')\n",
    "plt.show()"
   ]
  },
  {
   "cell_type": "code",
   "execution_count": 22,
   "metadata": {},
   "outputs": [
    {
     "data": {
      "text/plain": [
       "0.9925163984298706"
      ]
     },
     "execution_count": 22,
     "metadata": {},
     "output_type": "execute_result"
    }
   ],
   "source": [
    "np.max(history2.history['accuracy'])"
   ]
  },
  {
   "cell_type": "code",
   "execution_count": 23,
   "metadata": {},
   "outputs": [
    {
     "data": {
      "text/plain": [
       "0.7927771210670471"
      ]
     },
     "execution_count": 23,
     "metadata": {},
     "output_type": "execute_result"
    }
   ],
   "source": [
    "np.max(history2.history['val_accuracy'])"
   ]
  },
  {
   "cell_type": "code",
   "execution_count": null,
   "metadata": {},
   "outputs": [],
   "source": []
  }
 ],
 "metadata": {
  "kernelspec": {
   "display_name": "Python 3",
   "language": "python",
   "name": "python3"
  },
  "language_info": {
   "codemirror_mode": {
    "name": "ipython",
    "version": 3
   },
   "file_extension": ".py",
   "mimetype": "text/x-python",
   "name": "python",
   "nbconvert_exporter": "python",
   "pygments_lexer": "ipython3",
   "version": "3.8.3"
  }
 },
 "nbformat": 4,
 "nbformat_minor": 2
}
